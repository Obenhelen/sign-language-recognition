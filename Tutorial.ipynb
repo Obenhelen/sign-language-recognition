{
 "cells": [
  {
   "cell_type": "markdown",
   "metadata": {},
   "source": [
    "Resources Used\n",
    "- wget.download('https://tensorflow-object-detection-api-tutorial.readthedocs.io/en/latest/_downloads/da4babe668a8afb093cc7776d7e630f3/generate_tfrecord.py')\n",
    "- Setup https://tensorflow-object-detection-api-tutorial.readthedocs.io/en/latest/install.html"
   ]
  },
  {
   "cell_type": "markdown",
   "metadata": {},
   "source": [
    "# 0. Setup Paths"
   ]
  },
  {
   "cell_type": "code",
   "execution_count": 7,
   "metadata": {},
   "outputs": [],
   "source": [
    "WORKSPACE_PATH = 'Tensorflow/workspace'\n",
    "SCRIPTS_PATH = 'Tensorflow/scripts'\n",
    "APIMODEL_PATH = 'Tensorflow/models'\n",
    "ANNOTATION_PATH = WORKSPACE_PATH+'/annotations'\n",
    "IMAGE_PATH = WORKSPACE_PATH+'/images'\n",
    "MODEL_PATH = WORKSPACE_PATH+'/models'\n",
    "PRETRAINED_MODEL_PATH = WORKSPACE_PATH+'/pre-trained-models'\n",
    "CONFIG_PATH = MODEL_PATH+'/my_ssd_mobnet/pipeline.config'\n",
    "CHECKPOINT_PATH = MODEL_PATH+'/my_ssd_mobnet/'"
   ]
  },
  {
   "cell_type": "markdown",
   "metadata": {},
   "source": [
    "# 1. Create Label Map"
   ]
  },
  {
   "cell_type": "code",
   "execution_count": null,
   "metadata": {},
   "outputs": [],
   "source": [
    "labels = [{'name':'hello', 'id':1},\n",
    "          {'name':'thanks', 'id':2},\n",
    "          {'name':'yes', 'id':3},\n",
    "          {'name':'no', 'id':4},\n",
    "          {'name':'i love you', 'id':5},\n",
    "          {'name':'good morning', 'id':6},\n",
    "          {'name':'call me', 'id':7},\n",
    "          {'name':'good job', 'id':8},\n",
    "          {'name':'peace', 'id':9},\n",
    "          {'name':'ok', 'id':10},\n",
    "          {'name':'good luck', 'id':11},\n",
    "          {'name':'happy', 'id':12},\n",
    "           {'name':'fall', 'id':13},\n",
    "          {'name':'wrong', 'id':14},\n",
    "          {'name':'more', 'id':15},\n",
    "          {'name':'eat', 'id':16},\n",
    "          {'name':'dad', 'id':17},\n",
    "          {'name':'mom', 'id':18},\n",
    "          {'name':'play', 'id':19},\n",
    "          {'name':'help', 'id':20},\n",
    "           {'name':'push', 'id':21},\n",
    "           {'name':'sleep', 'id':22},\n",
    "           {'name':'sit down', 'id':23},\n",
    "           {'name':'give', 'id':24},\n",
    "           {'name':'drink', 'id':25},\n",
    "          \n",
    "         ]\n",
    "\n",
    "with open(ANNOTATION_PATH + '\\label_map.pbtxt', 'w') as f:\n",
    "    for label in labels:\n",
    "        f.write('item { \\n')\n",
    "        f.write('\\tname:\\'{}\\'\\n'.format(label['name']))\n",
    "        f.write('\\tid:{}\\n'.format(label['id']))\n",
    "        f.write('}\\n')"
   ]
  },
  {
   "cell_type": "markdown",
   "metadata": {},
   "source": []
  },
  {
   "cell_type": "markdown",
   "metadata": {},
   "source": [
    "# 2. Create TF records"
   ]
  },
  {
   "cell_type": "code",
   "execution_count": 13,
   "metadata": {},
   "outputs": [],
   "source": [
    "!pip install -qq Cython contextlib2 pillow lxml matplotlib"
   ]
  },
  {
   "cell_type": "code",
   "execution_count": 16,
   "metadata": {},
   "outputs": [],
   "source": [
    "!pip install -qq pycocotools"
   ]
  },
  {
   "cell_type": "code",
   "execution_count": 18,
   "metadata": {},
   "outputs": [
    {
     "name": "stdout",
     "output_type": "stream",
     "text": [
      "C:\\Users\\OBENCECILIA\\Desktop\\RealTimeObjectDetection-main\\Tensorflow\\models\\research\n"
     ]
    }
   ],
   "source": [
    "%cd C:\\Users\\OBENCECILIA\\Desktop\\RealTimeObjectDetection-main\\Tensorflow\\models\\research"
   ]
  },
  {
   "cell_type": "code",
   "execution_count": 20,
   "metadata": {},
   "outputs": [],
   "source": [
    "!protoc object_detection/protos/*.proto --python_out=."
   ]
  },
  {
   "cell_type": "code",
   "execution_count": 23,
   "metadata": {},
   "outputs": [
    {
     "name": "stdout",
     "output_type": "stream",
     "text": [
      "        1 file(s) copied.\n"
     ]
    }
   ],
   "source": [
    "%copy object_detection\\packages\\tf2\\setup.py ."
   ]
  },
  {
   "cell_type": "code",
   "execution_count": 24,
   "metadata": {},
   "outputs": [
    {
     "name": "stdout",
     "output_type": "stream",
     "text": [
      "Processing c:\\users\\obencecilia\\desktop\\realtimeobjectdetection-main\\tensorflow\\models\\research\n",
      "Requirement already satisfied: avro-python3 in c:\\users\\obencecilia\\anaconda3\\lib\\site-packages (from object-detection==0.1) (1.10.2)\n",
      "Requirement already satisfied: apache-beam in c:\\users\\obencecilia\\anaconda3\\lib\\site-packages (from object-detection==0.1) (2.46.0)\n",
      "Requirement already satisfied: pillow in c:\\users\\obencecilia\\anaconda3\\lib\\site-packages (from object-detection==0.1) (8.2.0)\n",
      "Requirement already satisfied: lxml in c:\\users\\obencecilia\\anaconda3\\lib\\site-packages (from object-detection==0.1) (4.6.3)\n",
      "Requirement already satisfied: matplotlib in c:\\users\\obencecilia\\anaconda3\\lib\\site-packages (from object-detection==0.1) (3.3.4)\n",
      "Requirement already satisfied: Cython in c:\\users\\obencecilia\\anaconda3\\lib\\site-packages (from object-detection==0.1) (0.29.23)\n",
      "Requirement already satisfied: contextlib2 in c:\\users\\obencecilia\\anaconda3\\lib\\site-packages (from object-detection==0.1) (0.6.0.post1)\n",
      "Requirement already satisfied: tf-slim in c:\\users\\obencecilia\\anaconda3\\lib\\site-packages (from object-detection==0.1) (1.1.0)\n",
      "Requirement already satisfied: six in c:\\users\\obencecilia\\anaconda3\\lib\\site-packages (from object-detection==0.1) (1.15.0)\n",
      "Requirement already satisfied: pycocotools in c:\\users\\obencecilia\\anaconda3\\lib\\site-packages (from object-detection==0.1) (2.0.7)\n",
      "Requirement already satisfied: lvis in c:\\users\\obencecilia\\anaconda3\\lib\\site-packages (from object-detection==0.1) (0.5.3)\n",
      "Requirement already satisfied: scipy in c:\\users\\obencecilia\\anaconda3\\lib\\site-packages (from object-detection==0.1) (1.6.2)\n",
      "Requirement already satisfied: pandas in c:\\users\\obencecilia\\anaconda3\\lib\\site-packages (from object-detection==0.1) (1.2.4)\n",
      "Requirement already satisfied: tf-models-official>=2.5.1 in c:\\users\\obencecilia\\anaconda3\\lib\\site-packages (from object-detection==0.1) (2.10.1)\n",
      "Requirement already satisfied: tensorflow_io in c:\\users\\obencecilia\\anaconda3\\lib\\site-packages (from object-detection==0.1) (0.31.0)\n",
      "Requirement already satisfied: keras in c:\\users\\obencecilia\\anaconda3\\lib\\site-packages (from object-detection==0.1) (2.10.0)\n",
      "Requirement already satisfied: pyparsing==2.4.7 in c:\\users\\obencecilia\\anaconda3\\lib\\site-packages (from object-detection==0.1) (2.4.7)\n",
      "Requirement already satisfied: sacrebleu<=2.2.0 in c:\\users\\obencecilia\\anaconda3\\lib\\site-packages (from object-detection==0.1) (2.2.0)\n",
      "Requirement already satisfied: portalocker in c:\\users\\obencecilia\\anaconda3\\lib\\site-packages (from sacrebleu<=2.2.0->object-detection==0.1) (2.7.0)\n",
      "Requirement already satisfied: regex in c:\\users\\obencecilia\\anaconda3\\lib\\site-packages (from sacrebleu<=2.2.0->object-detection==0.1) (2021.4.4)\n",
      "Requirement already satisfied: colorama in c:\\users\\obencecilia\\anaconda3\\lib\\site-packages (from sacrebleu<=2.2.0->object-detection==0.1) (0.4.4)\n",
      "Requirement already satisfied: tabulate>=0.8.9 in c:\\users\\obencecilia\\anaconda3\\lib\\site-packages (from sacrebleu<=2.2.0->object-detection==0.1) (0.9.0)\n",
      "Requirement already satisfied: numpy>=1.17 in c:\\users\\obencecilia\\anaconda3\\lib\\site-packages (from sacrebleu<=2.2.0->object-detection==0.1) (1.22.4)\n",
      "Requirement already satisfied: kaggle>=1.3.9 in c:\\users\\obencecilia\\anaconda3\\lib\\site-packages (from tf-models-official>=2.5.1->object-detection==0.1) (1.5.16)\n",
      "Requirement already satisfied: psutil>=5.4.3 in c:\\users\\obencecilia\\anaconda3\\lib\\site-packages (from tf-models-official>=2.5.1->object-detection==0.1) (5.8.0)\n",
      "Requirement already satisfied: opencv-python-headless in c:\\users\\obencecilia\\anaconda3\\lib\\site-packages (from tf-models-official>=2.5.1->object-detection==0.1) (4.8.0.76)\n",
      "Requirement already satisfied: tensorflow-model-optimization>=0.4.1 in c:\\users\\obencecilia\\anaconda3\\lib\\site-packages (from tf-models-official>=2.5.1->object-detection==0.1) (0.7.3)\n",
      "Requirement already satisfied: gin-config in c:\\users\\obencecilia\\anaconda3\\lib\\site-packages (from tf-models-official>=2.5.1->object-detection==0.1) (0.5.0)\n",
      "Requirement already satisfied: oauth2client in c:\\users\\obencecilia\\anaconda3\\lib\\site-packages (from tf-models-official>=2.5.1->object-detection==0.1) (4.1.3)\n",
      "Requirement already satisfied: py-cpuinfo>=3.3.0 in c:\\users\\obencecilia\\anaconda3\\lib\\site-packages (from tf-models-official>=2.5.1->object-detection==0.1) (9.0.0)\n",
      "Requirement already satisfied: tensorflow-datasets in c:\\users\\obencecilia\\anaconda3\\lib\\site-packages (from tf-models-official>=2.5.1->object-detection==0.1) (4.9.0)\n",
      "Requirement already satisfied: google-api-python-client>=1.6.7 in c:\\users\\obencecilia\\anaconda3\\lib\\site-packages (from tf-models-official>=2.5.1->object-detection==0.1) (2.96.0)\n",
      "Requirement already satisfied: sentencepiece in c:\\users\\obencecilia\\anaconda3\\lib\\site-packages (from tf-models-official>=2.5.1->object-detection==0.1) (0.1.99)\n",
      "Requirement already satisfied: tensorflow-addons in c:\\users\\obencecilia\\anaconda3\\lib\\site-packages (from tf-models-official>=2.5.1->object-detection==0.1) (0.21.0)\n",
      "Requirement already satisfied: seqeval in c:\\users\\obencecilia\\anaconda3\\lib\\site-packages (from tf-models-official>=2.5.1->object-detection==0.1) (1.2.2)\n",
      "Requirement already satisfied: pyyaml<6.0,>=5.1 in c:\\users\\obencecilia\\anaconda3\\lib\\site-packages (from tf-models-official>=2.5.1->object-detection==0.1) (5.4.1)\n",
      "Requirement already satisfied: tensorflow-text~=2.10.0 in c:\\users\\obencecilia\\anaconda3\\lib\\site-packages (from tf-models-official>=2.5.1->object-detection==0.1) (2.10.0)\n",
      "Requirement already satisfied: immutabledict in c:\\users\\obencecilia\\anaconda3\\lib\\site-packages (from tf-models-official>=2.5.1->object-detection==0.1) (3.0.0)\n",
      "Requirement already satisfied: tensorflow-hub>=0.6.0 in c:\\users\\obencecilia\\anaconda3\\lib\\site-packages (from tf-models-official>=2.5.1->object-detection==0.1) (0.14.0)\n",
      "Requirement already satisfied: tensorflow~=2.10.0 in c:\\users\\obencecilia\\anaconda3\\lib\\site-packages (from tf-models-official>=2.5.1->object-detection==0.1) (2.10.1)\n",
      "Requirement already satisfied: google-auth<3.0.0.dev0,>=1.19.0 in c:\\users\\obencecilia\\anaconda3\\lib\\site-packages (from google-api-python-client>=1.6.7->tf-models-official>=2.5.1->object-detection==0.1) (2.22.0)\n",
      "Requirement already satisfied: uritemplate<5,>=3.0.1 in c:\\users\\obencecilia\\anaconda3\\lib\\site-packages (from google-api-python-client>=1.6.7->tf-models-official>=2.5.1->object-detection==0.1) (4.1.1)\n",
      "Requirement already satisfied: google-auth-httplib2>=0.1.0 in c:\\users\\obencecilia\\anaconda3\\lib\\site-packages (from google-api-python-client>=1.6.7->tf-models-official>=2.5.1->object-detection==0.1) (0.1.0)\n",
      "Requirement already satisfied: google-api-core!=2.0.*,!=2.1.*,!=2.2.*,!=2.3.0,<3.0.0.dev0,>=1.31.5 in c:\\users\\obencecilia\\anaconda3\\lib\\site-packages (from google-api-python-client>=1.6.7->tf-models-official>=2.5.1->object-detection==0.1) (2.11.1)\n",
      "Requirement already satisfied: httplib2<1.dev0,>=0.15.0 in c:\\users\\obencecilia\\anaconda3\\lib\\site-packages (from google-api-python-client>=1.6.7->tf-models-official>=2.5.1->object-detection==0.1) (0.21.0)\n",
      "Requirement already satisfied: requests<3.0.0.dev0,>=2.18.0 in c:\\users\\obencecilia\\anaconda3\\lib\\site-packages (from google-api-core!=2.0.*,!=2.1.*,!=2.2.*,!=2.3.0,<3.0.0.dev0,>=1.31.5->google-api-python-client>=1.6.7->tf-models-official>=2.5.1->object-detection==0.1) (2.25.1)\n",
      "Requirement already satisfied: googleapis-common-protos<2.0.dev0,>=1.56.2 in c:\\users\\obencecilia\\anaconda3\\lib\\site-packages (from google-api-core!=2.0.*,!=2.1.*,!=2.2.*,!=2.3.0,<3.0.0.dev0,>=1.31.5->google-api-python-client>=1.6.7->tf-models-official>=2.5.1->object-detection==0.1) (1.60.0)\n",
      "Requirement already satisfied: protobuf!=3.20.0,!=3.20.1,!=4.21.0,!=4.21.1,!=4.21.2,!=4.21.3,!=4.21.4,!=4.21.5,<5.0.0.dev0,>=3.19.5 in c:\\users\\obencecilia\\anaconda3\\lib\\site-packages (from google-api-core!=2.0.*,!=2.1.*,!=2.2.*,!=2.3.0,<3.0.0.dev0,>=1.31.5->google-api-python-client>=1.6.7->tf-models-official>=2.5.1->object-detection==0.1) (3.19.6)\n",
      "Requirement already satisfied: pyasn1-modules>=0.2.1 in c:\\users\\obencecilia\\anaconda3\\lib\\site-packages (from google-auth<3.0.0.dev0,>=1.19.0->google-api-python-client>=1.6.7->tf-models-official>=2.5.1->object-detection==0.1) (0.3.0)\n",
      "Requirement already satisfied: cachetools<6.0,>=2.0.0 in c:\\users\\obencecilia\\anaconda3\\lib\\site-packages (from google-auth<3.0.0.dev0,>=1.19.0->google-api-python-client>=1.6.7->tf-models-official>=2.5.1->object-detection==0.1) (5.3.1)\n",
      "Requirement already satisfied: urllib3<2.0 in c:\\users\\obencecilia\\anaconda3\\lib\\site-packages (from google-auth<3.0.0.dev0,>=1.19.0->google-api-python-client>=1.6.7->tf-models-official>=2.5.1->object-detection==0.1) (1.26.4)\n",
      "Requirement already satisfied: rsa<5,>=3.1.4 in c:\\users\\obencecilia\\anaconda3\\lib\\site-packages (from google-auth<3.0.0.dev0,>=1.19.0->google-api-python-client>=1.6.7->tf-models-official>=2.5.1->object-detection==0.1) (4.9)\n",
      "Requirement already satisfied: tqdm in c:\\users\\obencecilia\\anaconda3\\lib\\site-packages (from kaggle>=1.3.9->tf-models-official>=2.5.1->object-detection==0.1) (4.59.0)\n",
      "Requirement already satisfied: python-dateutil in c:\\users\\obencecilia\\anaconda3\\lib\\site-packages (from kaggle>=1.3.9->tf-models-official>=2.5.1->object-detection==0.1) (2.8.1)\n",
      "Requirement already satisfied: certifi in c:\\users\\obencecilia\\anaconda3\\lib\\site-packages (from kaggle>=1.3.9->tf-models-official>=2.5.1->object-detection==0.1) (2020.12.5)\n",
      "Requirement already satisfied: bleach in c:\\users\\obencecilia\\anaconda3\\lib\\site-packages (from kaggle>=1.3.9->tf-models-official>=2.5.1->object-detection==0.1) (3.3.0)\n",
      "Requirement already satisfied: python-slugify in c:\\users\\obencecilia\\anaconda3\\lib\\site-packages (from kaggle>=1.3.9->tf-models-official>=2.5.1->object-detection==0.1) (8.0.1)\n",
      "Requirement already satisfied: pytz>=2017.3 in c:\\users\\obencecilia\\anaconda3\\lib\\site-packages (from pandas->object-detection==0.1) (2021.1)\n",
      "Requirement already satisfied: pyasn1<0.6.0,>=0.4.6 in c:\\users\\obencecilia\\anaconda3\\lib\\site-packages (from pyasn1-modules>=0.2.1->google-auth<3.0.0.dev0,>=1.19.0->google-api-python-client>=1.6.7->tf-models-official>=2.5.1->object-detection==0.1) (0.5.0)\n",
      "Requirement already satisfied: chardet<5,>=3.0.2 in c:\\users\\obencecilia\\anaconda3\\lib\\site-packages (from requests<3.0.0.dev0,>=2.18.0->google-api-core!=2.0.*,!=2.1.*,!=2.2.*,!=2.3.0,<3.0.0.dev0,>=1.31.5->google-api-python-client>=1.6.7->tf-models-official>=2.5.1->object-detection==0.1) (4.0.0)\n",
      "Requirement already satisfied: idna<3,>=2.5 in c:\\users\\obencecilia\\anaconda3\\lib\\site-packages (from requests<3.0.0.dev0,>=2.18.0->google-api-core!=2.0.*,!=2.1.*,!=2.2.*,!=2.3.0,<3.0.0.dev0,>=1.31.5->google-api-python-client>=1.6.7->tf-models-official>=2.5.1->object-detection==0.1) (2.10)\n",
      "Requirement already satisfied: keras-preprocessing>=1.1.1 in c:\\users\\obencecilia\\anaconda3\\lib\\site-packages (from tensorflow~=2.10.0->tf-models-official>=2.5.1->object-detection==0.1) (1.1.2)\n",
      "Requirement already satisfied: tensorboard<2.11,>=2.10 in c:\\users\\obencecilia\\anaconda3\\lib\\site-packages (from tensorflow~=2.10.0->tf-models-official>=2.5.1->object-detection==0.1) (2.10.1)\n",
      "Requirement already satisfied: google-pasta>=0.1.1 in c:\\users\\obencecilia\\anaconda3\\lib\\site-packages (from tensorflow~=2.10.0->tf-models-official>=2.5.1->object-detection==0.1) (0.2.0)\n",
      "Requirement already satisfied: absl-py>=1.0.0 in c:\\users\\obencecilia\\anaconda3\\lib\\site-packages (from tensorflow~=2.10.0->tf-models-official>=2.5.1->object-detection==0.1) (1.4.0)\n",
      "Requirement already satisfied: libclang>=13.0.0 in c:\\users\\obencecilia\\anaconda3\\lib\\site-packages (from tensorflow~=2.10.0->tf-models-official>=2.5.1->object-detection==0.1) (16.0.6)\n",
      "Requirement already satisfied: typing-extensions>=3.6.6 in c:\\users\\obencecilia\\anaconda3\\lib\\site-packages (from tensorflow~=2.10.0->tf-models-official>=2.5.1->object-detection==0.1) (3.7.4.3)\n",
      "Requirement already satisfied: wrapt>=1.11.0 in c:\\users\\obencecilia\\anaconda3\\lib\\site-packages (from tensorflow~=2.10.0->tf-models-official>=2.5.1->object-detection==0.1) (1.12.1)\n",
      "Requirement already satisfied: tensorflow-io-gcs-filesystem>=0.23.1 in c:\\users\\obencecilia\\anaconda3\\lib\\site-packages (from tensorflow~=2.10.0->tf-models-official>=2.5.1->object-detection==0.1) (0.31.0)\n",
      "Requirement already satisfied: termcolor>=1.1.0 in c:\\users\\obencecilia\\anaconda3\\lib\\site-packages (from tensorflow~=2.10.0->tf-models-official>=2.5.1->object-detection==0.1) (2.3.0)\n",
      "Requirement already satisfied: grpcio<2.0,>=1.24.3 in c:\\users\\obencecilia\\anaconda3\\lib\\site-packages (from tensorflow~=2.10.0->tf-models-official>=2.5.1->object-detection==0.1) (1.57.0)\n",
      "Requirement already satisfied: astunparse>=1.6.0 in c:\\users\\obencecilia\\anaconda3\\lib\\site-packages (from tensorflow~=2.10.0->tf-models-official>=2.5.1->object-detection==0.1) (1.6.3)\n",
      "Requirement already satisfied: gast<=0.4.0,>=0.2.1 in c:\\users\\obencecilia\\anaconda3\\lib\\site-packages (from tensorflow~=2.10.0->tf-models-official>=2.5.1->object-detection==0.1) (0.4.0)\n",
      "Requirement already satisfied: setuptools in c:\\users\\obencecilia\\anaconda3\\lib\\site-packages (from tensorflow~=2.10.0->tf-models-official>=2.5.1->object-detection==0.1) (52.0.0.post20210125)\n",
      "Requirement already satisfied: flatbuffers>=2.0 in c:\\users\\obencecilia\\anaconda3\\lib\\site-packages (from tensorflow~=2.10.0->tf-models-official>=2.5.1->object-detection==0.1) (23.5.26)\n",
      "Requirement already satisfied: opt-einsum>=2.3.2 in c:\\users\\obencecilia\\anaconda3\\lib\\site-packages (from tensorflow~=2.10.0->tf-models-official>=2.5.1->object-detection==0.1) (3.3.0)\n",
      "Requirement already satisfied: tensorflow-estimator<2.11,>=2.10.0 in c:\\users\\obencecilia\\anaconda3\\lib\\site-packages (from tensorflow~=2.10.0->tf-models-official>=2.5.1->object-detection==0.1) (2.10.0)\n",
      "Requirement already satisfied: packaging in c:\\users\\obencecilia\\anaconda3\\lib\\site-packages (from tensorflow~=2.10.0->tf-models-official>=2.5.1->object-detection==0.1) (20.9)\n",
      "Requirement already satisfied: h5py>=2.9.0 in c:\\users\\obencecilia\\anaconda3\\lib\\site-packages (from tensorflow~=2.10.0->tf-models-official>=2.5.1->object-detection==0.1) (2.10.0)\n",
      "Requirement already satisfied: wheel<1.0,>=0.23.0 in c:\\users\\obencecilia\\anaconda3\\lib\\site-packages (from astunparse>=1.6.0->tensorflow~=2.10.0->tf-models-official>=2.5.1->object-detection==0.1) (0.36.2)\n",
      "Requirement already satisfied: werkzeug>=1.0.1 in c:\\users\\obencecilia\\anaconda3\\lib\\site-packages (from tensorboard<2.11,>=2.10->tensorflow~=2.10.0->tf-models-official>=2.5.1->object-detection==0.1) (1.0.1)\n",
      "Requirement already satisfied: google-auth-oauthlib<0.5,>=0.4.1 in c:\\users\\obencecilia\\anaconda3\\lib\\site-packages (from tensorboard<2.11,>=2.10->tensorflow~=2.10.0->tf-models-official>=2.5.1->object-detection==0.1) (0.4.6)\n",
      "Requirement already satisfied: markdown>=2.6.8 in c:\\users\\obencecilia\\anaconda3\\lib\\site-packages (from tensorboard<2.11,>=2.10->tensorflow~=2.10.0->tf-models-official>=2.5.1->object-detection==0.1) (3.4.4)\n",
      "Requirement already satisfied: tensorboard-plugin-wit>=1.6.0 in c:\\users\\obencecilia\\anaconda3\\lib\\site-packages (from tensorboard<2.11,>=2.10->tensorflow~=2.10.0->tf-models-official>=2.5.1->object-detection==0.1) (1.8.1)\n",
      "Requirement already satisfied: tensorboard-data-server<0.7.0,>=0.6.0 in c:\\users\\obencecilia\\anaconda3\\lib\\site-packages (from tensorboard<2.11,>=2.10->tensorflow~=2.10.0->tf-models-official>=2.5.1->object-detection==0.1) (0.6.1)\n",
      "Requirement already satisfied: requests-oauthlib>=0.7.0 in c:\\users\\obencecilia\\anaconda3\\lib\\site-packages (from google-auth-oauthlib<0.5,>=0.4.1->tensorboard<2.11,>=2.10->tensorflow~=2.10.0->tf-models-official>=2.5.1->object-detection==0.1) (1.3.1)\n",
      "Requirement already satisfied: importlib-metadata>=4.4 in c:\\users\\obencecilia\\anaconda3\\lib\\site-packages (from markdown>=2.6.8->tensorboard<2.11,>=2.10->tensorflow~=2.10.0->tf-models-official>=2.5.1->object-detection==0.1) (6.8.0)\n",
      "Requirement already satisfied: zipp>=0.5 in c:\\users\\obencecilia\\anaconda3\\lib\\site-packages (from importlib-metadata>=4.4->markdown>=2.6.8->tensorboard<2.11,>=2.10->tensorflow~=2.10.0->tf-models-official>=2.5.1->object-detection==0.1) (3.4.1)\n",
      "Requirement already satisfied: oauthlib>=3.0.0 in c:\\users\\obencecilia\\anaconda3\\lib\\site-packages (from requests-oauthlib>=0.7.0->google-auth-oauthlib<0.5,>=0.4.1->tensorboard<2.11,>=2.10->tensorflow~=2.10.0->tf-models-official>=2.5.1->object-detection==0.1) (3.2.2)\n",
      "Requirement already satisfied: dm-tree~=0.1.1 in c:\\users\\obencecilia\\anaconda3\\lib\\site-packages (from tensorflow-model-optimization>=0.4.1->tf-models-official>=2.5.1->object-detection==0.1) (0.1.8)\n",
      "Requirement already satisfied: pydot<2,>=1.2.0 in c:\\users\\obencecilia\\anaconda3\\lib\\site-packages (from apache-beam->object-detection==0.1) (1.4.2)\n",
      "Requirement already satisfied: hdfs<3.0.0,>=2.1.0 in c:\\users\\obencecilia\\anaconda3\\lib\\site-packages (from apache-beam->object-detection==0.1) (2.7.2)\n",
      "Requirement already satisfied: pyarrow<10.0.0,>=3.0.0 in c:\\users\\obencecilia\\anaconda3\\lib\\site-packages (from apache-beam->object-detection==0.1) (9.0.0)\n",
      "Requirement already satisfied: zstandard<1,>=0.18.0 in c:\\users\\obencecilia\\anaconda3\\lib\\site-packages (from apache-beam->object-detection==0.1) (0.21.0)\n",
      "Requirement already satisfied: pymongo<4.0.0,>=3.8.0 in c:\\users\\obencecilia\\anaconda3\\lib\\site-packages (from apache-beam->object-detection==0.1) (3.13.0)\n",
      "Requirement already satisfied: fastavro<2,>=0.23.6 in c:\\users\\obencecilia\\anaconda3\\lib\\site-packages (from apache-beam->object-detection==0.1) (1.8.2)\n",
      "Requirement already satisfied: cloudpickle~=2.2.1 in c:\\users\\obencecilia\\anaconda3\\lib\\site-packages (from apache-beam->object-detection==0.1) (2.2.1)\n",
      "Requirement already satisfied: proto-plus<2,>=1.7.1 in c:\\users\\obencecilia\\anaconda3\\lib\\site-packages (from apache-beam->object-detection==0.1) (1.22.3)\n",
      "Requirement already satisfied: fasteners<1.0,>=0.3 in c:\\users\\obencecilia\\anaconda3\\lib\\site-packages (from apache-beam->object-detection==0.1) (0.18)\n",
      "Requirement already satisfied: objsize<0.7.0,>=0.6.1 in c:\\users\\obencecilia\\anaconda3\\lib\\site-packages (from apache-beam->object-detection==0.1) (0.6.1)\n",
      "Requirement already satisfied: dill<0.3.2,>=0.3.1.1 in c:\\users\\obencecilia\\anaconda3\\lib\\site-packages (from apache-beam->object-detection==0.1) (0.3.1.1)\n",
      "Requirement already satisfied: orjson<4.0 in c:\\users\\obencecilia\\anaconda3\\lib\\site-packages (from apache-beam->object-detection==0.1) (3.9.4)\n",
      "Requirement already satisfied: crcmod<2.0,>=1.7 in c:\\users\\obencecilia\\anaconda3\\lib\\site-packages (from apache-beam->object-detection==0.1) (1.7)\n",
      "Requirement already satisfied: docopt in c:\\users\\obencecilia\\anaconda3\\lib\\site-packages (from hdfs<3.0.0,>=2.1.0->apache-beam->object-detection==0.1) (0.6.2)\n",
      "Requirement already satisfied: webencodings in c:\\users\\obencecilia\\anaconda3\\lib\\site-packages (from bleach->kaggle>=1.3.9->tf-models-official>=2.5.1->object-detection==0.1) (0.5.1)\n",
      "Requirement already satisfied: opencv-python>=4.1.0.25 in c:\\users\\obencecilia\\anaconda3\\lib\\site-packages (from lvis->object-detection==0.1) (4.8.0.76)\n",
      "Requirement already satisfied: kiwisolver>=1.1.0 in c:\\users\\obencecilia\\anaconda3\\lib\\site-packages (from lvis->object-detection==0.1) (1.3.1)\n",
      "Requirement already satisfied: cycler>=0.10.0 in c:\\users\\obencecilia\\anaconda3\\lib\\site-packages (from lvis->object-detection==0.1) (0.10.0)\n",
      "Requirement already satisfied: pywin32>=226 in c:\\users\\obencecilia\\anaconda3\\lib\\site-packages (from portalocker->sacrebleu<=2.2.0->object-detection==0.1) (227)\n",
      "Requirement already satisfied: text-unidecode>=1.3 in c:\\users\\obencecilia\\anaconda3\\lib\\site-packages (from python-slugify->kaggle>=1.3.9->tf-models-official>=2.5.1->object-detection==0.1) (1.3)\n",
      "Requirement already satisfied: scikit-learn>=0.21.3 in c:\\users\\obencecilia\\anaconda3\\lib\\site-packages (from seqeval->tf-models-official>=2.5.1->object-detection==0.1) (0.24.1)\n",
      "Requirement already satisfied: joblib>=0.11 in c:\\users\\obencecilia\\anaconda3\\lib\\site-packages (from scikit-learn>=0.21.3->seqeval->tf-models-official>=2.5.1->object-detection==0.1) (1.0.1)\n",
      "Requirement already satisfied: threadpoolctl>=2.0.0 in c:\\users\\obencecilia\\anaconda3\\lib\\site-packages (from scikit-learn>=0.21.3->seqeval->tf-models-official>=2.5.1->object-detection==0.1) (2.1.0)\n",
      "Requirement already satisfied: typeguard<3.0.0,>=2.7 in c:\\users\\obencecilia\\anaconda3\\lib\\site-packages (from tensorflow-addons->tf-models-official>=2.5.1->object-detection==0.1) (2.13.3)\n",
      "Requirement already satisfied: promise in c:\\users\\obencecilia\\anaconda3\\lib\\site-packages (from tensorflow-datasets->tf-models-official>=2.5.1->object-detection==0.1) (2.3)\n",
      "Requirement already satisfied: etils[enp,epath]>=0.9.0 in c:\\users\\obencecilia\\anaconda3\\lib\\site-packages (from tensorflow-datasets->tf-models-official>=2.5.1->object-detection==0.1) (1.3.0)\n",
      "Requirement already satisfied: tensorflow-metadata in c:\\users\\obencecilia\\anaconda3\\lib\\site-packages (from tensorflow-datasets->tf-models-official>=2.5.1->object-detection==0.1) (1.13.0)\n",
      "Requirement already satisfied: click in c:\\users\\obencecilia\\anaconda3\\lib\\site-packages (from tensorflow-datasets->tf-models-official>=2.5.1->object-detection==0.1) (7.1.2)\n",
      "Requirement already satisfied: importlib-resources in c:\\users\\obencecilia\\anaconda3\\lib\\site-packages (from tensorflow-datasets->tf-models-official>=2.5.1->object-detection==0.1) (6.0.1)\n",
      "Requirement already satisfied: array-record in c:\\users\\obencecilia\\anaconda3\\lib\\site-packages (from tensorflow-datasets->tf-models-official>=2.5.1->object-detection==0.1) (0.4.0)\n",
      "Requirement already satisfied: toml in c:\\users\\obencecilia\\anaconda3\\lib\\site-packages (from tensorflow-datasets->tf-models-official>=2.5.1->object-detection==0.1) (0.10.2)\n",
      "Building wheels for collected packages: object-detection\n",
      "  Building wheel for object-detection (setup.py): started\n",
      "  Building wheel for object-detection (setup.py): finished with status 'done'\n"
     ]
    },
    {
     "name": "stdout",
     "output_type": "stream",
     "text": [
      "  Created wheel for object-detection: filename=object_detection-0.1-py3-none-any.whl size=1707953 sha256=48a2dfc9ca5f8576901a06ac416aa4f7fcef36482c8c0b0bac57e30efc4b6078\n",
      "  Stored in directory: C:\\Users\\OBENCECILIA\\AppData\\Local\\Temp\\pip-ephem-wheel-cache-f4apndb5\\wheels\\1a\\e3\\78\\27c353d24f6004e33d115f40502171b8a0ff41230309b0daab\n",
      "Successfully built object-detection\n",
      "Installing collected packages: object-detection\n",
      "  Attempting uninstall: object-detection\n",
      "    Found existing installation: object-detection 0.1\n",
      "    Uninstalling object-detection-0.1:\n",
      "      Successfully uninstalled object-detection-0.1\n",
      "Successfully installed object-detection-0.1\n"
     ]
    }
   ],
   "source": [
    "!python -m pip install ."
   ]
  },
  {
   "cell_type": "code",
   "execution_count": 26,
   "metadata": {},
   "outputs": [
    {
     "name": "stderr",
     "output_type": "stream",
     "text": [
      "Running tests under Python 3.8.8: C:\\Users\\OBENCECILIA\\anaconda3\\python.exe\n",
      "[ RUN      ] ModelBuilderTF2Test.test_create_center_net_deepmac\n",
      "C:\\Users\\OBENCECILIA\\anaconda3\\lib\\site-packages\\object_detection\\builders\\model_builder.py:1112: DeprecationWarning: The 'warn' function is deprecated, use 'warning' instead\n",
      "  logging.warn(('Building experimental DeepMAC meta-arch.'\n",
      "W0815 14:02:44.255929 11120 model_builder.py:1112] Building experimental DeepMAC meta-arch. Some features may be omitted.\n",
      "INFO:tensorflow:time(__main__.ModelBuilderTF2Test.test_create_center_net_deepmac): 0.89s\n",
      "I0815 14:02:44.585907 11120 test_util.py:2460] time(__main__.ModelBuilderTF2Test.test_create_center_net_deepmac): 0.89s\n",
      "[       OK ] ModelBuilderTF2Test.test_create_center_net_deepmac\n",
      "[ RUN      ] ModelBuilderTF2Test.test_create_center_net_model0 (customize_head_params=True)\n",
      "INFO:tensorflow:time(__main__.ModelBuilderTF2Test.test_create_center_net_model0 (customize_head_params=True)): 1.92s\n",
      "I0815 14:02:46.509061 11120 test_util.py:2460] time(__main__.ModelBuilderTF2Test.test_create_center_net_model0 (customize_head_params=True)): 1.92s\n",
      "[       OK ] ModelBuilderTF2Test.test_create_center_net_model0 (customize_head_params=True)\n",
      "[ RUN      ] ModelBuilderTF2Test.test_create_center_net_model1 (customize_head_params=False)\n",
      "INFO:tensorflow:time(__main__.ModelBuilderTF2Test.test_create_center_net_model1 (customize_head_params=False)): 0.56s\n",
      "I0815 14:02:47.067267 11120 test_util.py:2460] time(__main__.ModelBuilderTF2Test.test_create_center_net_model1 (customize_head_params=False)): 0.56s\n",
      "[       OK ] ModelBuilderTF2Test.test_create_center_net_model1 (customize_head_params=False)\n",
      "[ RUN      ] ModelBuilderTF2Test.test_create_center_net_model_from_keypoints\n",
      "INFO:tensorflow:time(__main__.ModelBuilderTF2Test.test_create_center_net_model_from_keypoints): 0.38s\n",
      "I0815 14:02:47.448544 11120 test_util.py:2460] time(__main__.ModelBuilderTF2Test.test_create_center_net_model_from_keypoints): 0.38s\n",
      "[       OK ] ModelBuilderTF2Test.test_create_center_net_model_from_keypoints\n",
      "[ RUN      ] ModelBuilderTF2Test.test_create_center_net_model_mobilenet\n",
      "INFO:tensorflow:time(__main__.ModelBuilderTF2Test.test_create_center_net_model_mobilenet): 2.82s\n",
      "I0815 14:02:50.265495 11120 test_util.py:2460] time(__main__.ModelBuilderTF2Test.test_create_center_net_model_mobilenet): 2.82s\n",
      "[       OK ] ModelBuilderTF2Test.test_create_center_net_model_mobilenet\n",
      "[ RUN      ] ModelBuilderTF2Test.test_create_experimental_model\n",
      "INFO:tensorflow:time(__main__.ModelBuilderTF2Test.test_create_experimental_model): 0.0s\n",
      "I0815 14:02:50.270497 11120 test_util.py:2460] time(__main__.ModelBuilderTF2Test.test_create_experimental_model): 0.0s\n",
      "[       OK ] ModelBuilderTF2Test.test_create_experimental_model\n",
      "[ RUN      ] ModelBuilderTF2Test.test_create_faster_rcnn_from_config_with_crop_feature0 (True)\n",
      "INFO:tensorflow:time(__main__.ModelBuilderTF2Test.test_create_faster_rcnn_from_config_with_crop_feature0 (True)): 0.03s\n",
      "I0815 14:02:50.301505 11120 test_util.py:2460] time(__main__.ModelBuilderTF2Test.test_create_faster_rcnn_from_config_with_crop_feature0 (True)): 0.03s\n",
      "[       OK ] ModelBuilderTF2Test.test_create_faster_rcnn_from_config_with_crop_feature0 (True)\n",
      "[ RUN      ] ModelBuilderTF2Test.test_create_faster_rcnn_from_config_with_crop_feature1 (False)\n",
      "INFO:tensorflow:time(__main__.ModelBuilderTF2Test.test_create_faster_rcnn_from_config_with_crop_feature1 (False)): 0.02s\n",
      "I0815 14:02:50.321515 11120 test_util.py:2460] time(__main__.ModelBuilderTF2Test.test_create_faster_rcnn_from_config_with_crop_feature1 (False)): 0.02s\n",
      "[       OK ] ModelBuilderTF2Test.test_create_faster_rcnn_from_config_with_crop_feature1 (False)\n",
      "[ RUN      ] ModelBuilderTF2Test.test_create_faster_rcnn_model_from_config_with_example_miner\n",
      "INFO:tensorflow:time(__main__.ModelBuilderTF2Test.test_create_faster_rcnn_model_from_config_with_example_miner): 0.02s\n",
      "I0815 14:02:50.343031 11120 test_util.py:2460] time(__main__.ModelBuilderTF2Test.test_create_faster_rcnn_model_from_config_with_example_miner): 0.02s\n",
      "[       OK ] ModelBuilderTF2Test.test_create_faster_rcnn_model_from_config_with_example_miner\n",
      "[ RUN      ] ModelBuilderTF2Test.test_create_faster_rcnn_models_from_config_faster_rcnn_with_matmul\n",
      "INFO:tensorflow:time(__main__.ModelBuilderTF2Test.test_create_faster_rcnn_models_from_config_faster_rcnn_with_matmul): 0.13s\n",
      "I0815 14:02:50.469629 11120 test_util.py:2460] time(__main__.ModelBuilderTF2Test.test_create_faster_rcnn_models_from_config_faster_rcnn_with_matmul): 0.13s\n",
      "[       OK ] ModelBuilderTF2Test.test_create_faster_rcnn_models_from_config_faster_rcnn_with_matmul\n",
      "[ RUN      ] ModelBuilderTF2Test.test_create_faster_rcnn_models_from_config_faster_rcnn_without_matmul\n",
      "INFO:tensorflow:time(__main__.ModelBuilderTF2Test.test_create_faster_rcnn_models_from_config_faster_rcnn_without_matmul): 0.12s\n",
      "I0815 14:02:50.587702 11120 test_util.py:2460] time(__main__.ModelBuilderTF2Test.test_create_faster_rcnn_models_from_config_faster_rcnn_without_matmul): 0.12s\n",
      "[       OK ] ModelBuilderTF2Test.test_create_faster_rcnn_models_from_config_faster_rcnn_without_matmul\n",
      "[ RUN      ] ModelBuilderTF2Test.test_create_faster_rcnn_models_from_config_mask_rcnn_with_matmul\n",
      "INFO:tensorflow:time(__main__.ModelBuilderTF2Test.test_create_faster_rcnn_models_from_config_mask_rcnn_with_matmul): 0.12s\n",
      "I0815 14:02:50.710777 11120 test_util.py:2460] time(__main__.ModelBuilderTF2Test.test_create_faster_rcnn_models_from_config_mask_rcnn_with_matmul): 0.12s\n",
      "[       OK ] ModelBuilderTF2Test.test_create_faster_rcnn_models_from_config_mask_rcnn_with_matmul\n",
      "[ RUN      ] ModelBuilderTF2Test.test_create_faster_rcnn_models_from_config_mask_rcnn_without_matmul\n",
      "INFO:tensorflow:time(__main__.ModelBuilderTF2Test.test_create_faster_rcnn_models_from_config_mask_rcnn_without_matmul): 0.13s\n",
      "I0815 14:02:50.837666 11120 test_util.py:2460] time(__main__.ModelBuilderTF2Test.test_create_faster_rcnn_models_from_config_mask_rcnn_without_matmul): 0.13s\n",
      "[       OK ] ModelBuilderTF2Test.test_create_faster_rcnn_models_from_config_mask_rcnn_without_matmul\n",
      "[ RUN      ] ModelBuilderTF2Test.test_create_rfcn_model_from_config\n",
      "INFO:tensorflow:time(__main__.ModelBuilderTF2Test.test_create_rfcn_model_from_config): 0.12s\n",
      "I0815 14:02:50.957625 11120 test_util.py:2460] time(__main__.ModelBuilderTF2Test.test_create_rfcn_model_from_config): 0.12s\n",
      "[       OK ] ModelBuilderTF2Test.test_create_rfcn_model_from_config\n",
      "[ RUN      ] ModelBuilderTF2Test.test_create_ssd_fpn_model_from_config\n",
      "INFO:tensorflow:time(__main__.ModelBuilderTF2Test.test_create_ssd_fpn_model_from_config): 0.04s\n",
      "I0815 14:02:50.993637 11120 test_util.py:2460] time(__main__.ModelBuilderTF2Test.test_create_ssd_fpn_model_from_config): 0.04s\n",
      "[       OK ] ModelBuilderTF2Test.test_create_ssd_fpn_model_from_config\n",
      "[ RUN      ] ModelBuilderTF2Test.test_create_ssd_models_from_config\n",
      "I0815 14:02:51.348872 11120 ssd_efficientnet_bifpn_feature_extractor.py:150] EfficientDet EfficientNet backbone version: efficientnet-b0\n",
      "I0815 14:02:51.348872 11120 ssd_efficientnet_bifpn_feature_extractor.py:152] EfficientDet BiFPN num filters: 64\n",
      "I0815 14:02:51.348872 11120 ssd_efficientnet_bifpn_feature_extractor.py:153] EfficientDet BiFPN num iterations: 3\n",
      "I0815 14:02:51.351877 11120 efficientnet_model.py:143] round_filter input=32 output=32\n",
      "I0815 14:02:51.381898 11120 efficientnet_model.py:143] round_filter input=32 output=32\n",
      "I0815 14:02:51.381898 11120 efficientnet_model.py:143] round_filter input=16 output=16\n",
      "I0815 14:02:51.473533 11120 efficientnet_model.py:143] round_filter input=16 output=16\n",
      "I0815 14:02:51.473533 11120 efficientnet_model.py:143] round_filter input=24 output=24\n",
      "I0815 14:02:51.698877 11120 efficientnet_model.py:143] round_filter input=24 output=24\n",
      "I0815 14:02:51.698877 11120 efficientnet_model.py:143] round_filter input=40 output=40\n",
      "I0815 14:02:51.922204 11120 efficientnet_model.py:143] round_filter input=40 output=40\n",
      "I0815 14:02:51.922204 11120 efficientnet_model.py:143] round_filter input=80 output=80\n",
      "I0815 14:02:52.252133 11120 efficientnet_model.py:143] round_filter input=80 output=80\n",
      "I0815 14:02:52.252133 11120 efficientnet_model.py:143] round_filter input=112 output=112\n",
      "I0815 14:02:52.617269 11120 efficientnet_model.py:143] round_filter input=112 output=112\n",
      "I0815 14:02:52.617269 11120 efficientnet_model.py:143] round_filter input=192 output=192\n",
      "I0815 14:02:53.151047 11120 efficientnet_model.py:143] round_filter input=192 output=192\n",
      "I0815 14:02:53.151047 11120 efficientnet_model.py:143] round_filter input=320 output=320\n",
      "I0815 14:02:53.285134 11120 efficientnet_model.py:143] round_filter input=1280 output=1280\n",
      "I0815 14:02:53.365192 11120 efficientnet_model.py:453] Building model efficientnet with params ModelConfig(width_coefficient=1.0, depth_coefficient=1.0, resolution=224, dropout_rate=0.2, blocks=(BlockConfig(input_filters=32, output_filters=16, kernel_size=3, num_repeat=1, expand_ratio=1, strides=(1, 1), se_ratio=0.25, id_skip=True, fused_conv=False, conv_type='depthwise'), BlockConfig(input_filters=16, output_filters=24, kernel_size=3, num_repeat=2, expand_ratio=6, strides=(2, 2), se_ratio=0.25, id_skip=True, fused_conv=False, conv_type='depthwise'), BlockConfig(input_filters=24, output_filters=40, kernel_size=5, num_repeat=2, expand_ratio=6, strides=(2, 2), se_ratio=0.25, id_skip=True, fused_conv=False, conv_type='depthwise'), BlockConfig(input_filters=40, output_filters=80, kernel_size=3, num_repeat=3, expand_ratio=6, strides=(2, 2), se_ratio=0.25, id_skip=True, fused_conv=False, conv_type='depthwise'), BlockConfig(input_filters=80, output_filters=112, kernel_size=5, num_repeat=3, expand_ratio=6, strides=(1, 1), se_ratio=0.25, id_skip=True, fused_conv=False, conv_type='depthwise'), BlockConfig(input_filters=112, output_filters=192, kernel_size=5, num_repeat=4, expand_ratio=6, strides=(2, 2), se_ratio=0.25, id_skip=True, fused_conv=False, conv_type='depthwise'), BlockConfig(input_filters=192, output_filters=320, kernel_size=3, num_repeat=1, expand_ratio=6, strides=(1, 1), se_ratio=0.25, id_skip=True, fused_conv=False, conv_type='depthwise')), stem_base_filters=32, top_base_filters=1280, activation='simple_swish', batch_norm='default', bn_momentum=0.99, bn_epsilon=0.001, weight_decay=5e-06, drop_connect_rate=0.2, depth_divisor=8, min_depth=None, use_se=True, input_channels=3, num_classes=1000, model_name='efficientnet', rescale_input=False, data_format='channels_last', dtype='float32')\n",
      "I0815 14:02:53.433220 11120 ssd_efficientnet_bifpn_feature_extractor.py:150] EfficientDet EfficientNet backbone version: efficientnet-b1\n",
      "I0815 14:02:53.433220 11120 ssd_efficientnet_bifpn_feature_extractor.py:152] EfficientDet BiFPN num filters: 88\n",
      "I0815 14:02:53.433220 11120 ssd_efficientnet_bifpn_feature_extractor.py:153] EfficientDet BiFPN num iterations: 4\n",
      "I0815 14:02:53.435220 11120 efficientnet_model.py:143] round_filter input=32 output=32\n",
      "I0815 14:02:53.455751 11120 efficientnet_model.py:143] round_filter input=32 output=32\n",
      "I0815 14:02:53.455751 11120 efficientnet_model.py:143] round_filter input=16 output=16\n",
      "I0815 14:02:53.626346 11120 efficientnet_model.py:143] round_filter input=16 output=16\n",
      "I0815 14:02:53.626346 11120 efficientnet_model.py:143] round_filter input=24 output=24\n",
      "I0815 14:02:53.939020 11120 efficientnet_model.py:143] round_filter input=24 output=24\n",
      "I0815 14:02:53.939020 11120 efficientnet_model.py:143] round_filter input=40 output=40\n",
      "I0815 14:02:54.240744 11120 efficientnet_model.py:143] round_filter input=40 output=40\n",
      "I0815 14:02:54.241744 11120 efficientnet_model.py:143] round_filter input=80 output=80\n",
      "I0815 14:02:54.651760 11120 efficientnet_model.py:143] round_filter input=80 output=80\n",
      "I0815 14:02:54.652259 11120 efficientnet_model.py:143] round_filter input=112 output=112\n",
      "I0815 14:02:55.072080 11120 efficientnet_model.py:143] round_filter input=112 output=112\n",
      "I0815 14:02:55.072080 11120 efficientnet_model.py:143] round_filter input=192 output=192\n",
      "I0815 14:02:55.638958 11120 efficientnet_model.py:143] round_filter input=192 output=192\n",
      "I0815 14:02:55.638958 11120 efficientnet_model.py:143] round_filter input=320 output=320\n",
      "I0815 14:02:55.907532 11120 efficientnet_model.py:143] round_filter input=1280 output=1280\n",
      "I0815 14:02:55.972083 11120 efficientnet_model.py:453] Building model efficientnet with params ModelConfig(width_coefficient=1.0, depth_coefficient=1.1, resolution=240, dropout_rate=0.2, blocks=(BlockConfig(input_filters=32, output_filters=16, kernel_size=3, num_repeat=1, expand_ratio=1, strides=(1, 1), se_ratio=0.25, id_skip=True, fused_conv=False, conv_type='depthwise'), BlockConfig(input_filters=16, output_filters=24, kernel_size=3, num_repeat=2, expand_ratio=6, strides=(2, 2), se_ratio=0.25, id_skip=True, fused_conv=False, conv_type='depthwise'), BlockConfig(input_filters=24, output_filters=40, kernel_size=5, num_repeat=2, expand_ratio=6, strides=(2, 2), se_ratio=0.25, id_skip=True, fused_conv=False, conv_type='depthwise'), BlockConfig(input_filters=40, output_filters=80, kernel_size=3, num_repeat=3, expand_ratio=6, strides=(2, 2), se_ratio=0.25, id_skip=True, fused_conv=False, conv_type='depthwise'), BlockConfig(input_filters=80, output_filters=112, kernel_size=5, num_repeat=3, expand_ratio=6, strides=(1, 1), se_ratio=0.25, id_skip=True, fused_conv=False, conv_type='depthwise'), BlockConfig(input_filters=112, output_filters=192, kernel_size=5, num_repeat=4, expand_ratio=6, strides=(2, 2), se_ratio=0.25, id_skip=True, fused_conv=False, conv_type='depthwise'), BlockConfig(input_filters=192, output_filters=320, kernel_size=3, num_repeat=1, expand_ratio=6, strides=(1, 1), se_ratio=0.25, id_skip=True, fused_conv=False, conv_type='depthwise')), stem_base_filters=32, top_base_filters=1280, activation='simple_swish', batch_norm='default', bn_momentum=0.99, bn_epsilon=0.001, weight_decay=5e-06, drop_connect_rate=0.2, depth_divisor=8, min_depth=None, use_se=True, input_channels=3, num_classes=1000, model_name='efficientnet', rescale_input=False, data_format='channels_last', dtype='float32')\n",
      "I0815 14:02:56.056632 11120 ssd_efficientnet_bifpn_feature_extractor.py:150] EfficientDet EfficientNet backbone version: efficientnet-b2\n",
      "I0815 14:02:56.056632 11120 ssd_efficientnet_bifpn_feature_extractor.py:152] EfficientDet BiFPN num filters: 112\n",
      "I0815 14:02:56.057133 11120 ssd_efficientnet_bifpn_feature_extractor.py:153] EfficientDet BiFPN num iterations: 5\n",
      "I0815 14:02:56.059136 11120 efficientnet_model.py:143] round_filter input=32 output=32\n",
      "I0815 14:02:56.079147 11120 efficientnet_model.py:143] round_filter input=32 output=32\n",
      "I0815 14:02:56.079147 11120 efficientnet_model.py:143] round_filter input=16 output=16\n",
      "I0815 14:02:56.237239 11120 efficientnet_model.py:143] round_filter input=16 output=16\n",
      "I0815 14:02:56.238239 11120 efficientnet_model.py:143] round_filter input=24 output=24\n",
      "I0815 14:02:56.535190 11120 efficientnet_model.py:143] round_filter input=24 output=24\n",
      "I0815 14:02:56.535190 11120 efficientnet_model.py:143] round_filter input=40 output=48\n",
      "I0815 14:02:56.855159 11120 efficientnet_model.py:143] round_filter input=40 output=48\n",
      "I0815 14:02:56.855159 11120 efficientnet_model.py:143] round_filter input=80 output=88\n",
      "I0815 14:02:57.288488 11120 efficientnet_model.py:143] round_filter input=80 output=88\n",
      "I0815 14:02:57.288488 11120 efficientnet_model.py:143] round_filter input=112 output=120\n",
      "I0815 14:02:57.875361 11120 efficientnet_model.py:143] round_filter input=112 output=120\n",
      "I0815 14:02:57.875361 11120 efficientnet_model.py:143] round_filter input=192 output=208\n",
      "I0815 14:02:58.479899 11120 efficientnet_model.py:143] round_filter input=192 output=208\n",
      "I0815 14:02:58.480900 11120 efficientnet_model.py:143] round_filter input=320 output=352\n",
      "I0815 14:02:58.769088 11120 efficientnet_model.py:143] round_filter input=1280 output=1408\n",
      "I0815 14:02:58.844111 11120 efficientnet_model.py:453] Building model efficientnet with params ModelConfig(width_coefficient=1.1, depth_coefficient=1.2, resolution=260, dropout_rate=0.3, blocks=(BlockConfig(input_filters=32, output_filters=16, kernel_size=3, num_repeat=1, expand_ratio=1, strides=(1, 1), se_ratio=0.25, id_skip=True, fused_conv=False, conv_type='depthwise'), BlockConfig(input_filters=16, output_filters=24, kernel_size=3, num_repeat=2, expand_ratio=6, strides=(2, 2), se_ratio=0.25, id_skip=True, fused_conv=False, conv_type='depthwise'), BlockConfig(input_filters=24, output_filters=40, kernel_size=5, num_repeat=2, expand_ratio=6, strides=(2, 2), se_ratio=0.25, id_skip=True, fused_conv=False, conv_type='depthwise'), BlockConfig(input_filters=40, output_filters=80, kernel_size=3, num_repeat=3, expand_ratio=6, strides=(2, 2), se_ratio=0.25, id_skip=True, fused_conv=False, conv_type='depthwise'), BlockConfig(input_filters=80, output_filters=112, kernel_size=5, num_repeat=3, expand_ratio=6, strides=(1, 1), se_ratio=0.25, id_skip=True, fused_conv=False, conv_type='depthwise'), BlockConfig(input_filters=112, output_filters=192, kernel_size=5, num_repeat=4, expand_ratio=6, strides=(2, 2), se_ratio=0.25, id_skip=True, fused_conv=False, conv_type='depthwise'), BlockConfig(input_filters=192, output_filters=320, kernel_size=3, num_repeat=1, expand_ratio=6, strides=(1, 1), se_ratio=0.25, id_skip=True, fused_conv=False, conv_type='depthwise')), stem_base_filters=32, top_base_filters=1280, activation='simple_swish', batch_norm='default', bn_momentum=0.99, bn_epsilon=0.001, weight_decay=5e-06, drop_connect_rate=0.2, depth_divisor=8, min_depth=None, use_se=True, input_channels=3, num_classes=1000, model_name='efficientnet', rescale_input=False, data_format='channels_last', dtype='float32')\n",
      "I0815 14:02:58.927167 11120 ssd_efficientnet_bifpn_feature_extractor.py:150] EfficientDet EfficientNet backbone version: efficientnet-b3\n",
      "I0815 14:02:58.927167 11120 ssd_efficientnet_bifpn_feature_extractor.py:152] EfficientDet BiFPN num filters: 160\n"
     ]
    },
    {
     "name": "stderr",
     "output_type": "stream",
     "text": [
      "I0815 14:02:58.927167 11120 ssd_efficientnet_bifpn_feature_extractor.py:153] EfficientDet BiFPN num iterations: 6\n",
      "I0815 14:02:58.929171 11120 efficientnet_model.py:143] round_filter input=32 output=40\n",
      "I0815 14:02:58.953689 11120 efficientnet_model.py:143] round_filter input=32 output=40\n",
      "I0815 14:02:58.953689 11120 efficientnet_model.py:143] round_filter input=16 output=24\n",
      "I0815 14:02:59.127296 11120 efficientnet_model.py:143] round_filter input=16 output=24\n",
      "I0815 14:02:59.128297 11120 efficientnet_model.py:143] round_filter input=24 output=32\n",
      "I0815 14:02:59.443497 11120 efficientnet_model.py:143] round_filter input=24 output=32\n",
      "I0815 14:02:59.443497 11120 efficientnet_model.py:143] round_filter input=40 output=48\n",
      "I0815 14:02:59.749719 11120 efficientnet_model.py:143] round_filter input=40 output=48\n",
      "I0815 14:02:59.749719 11120 efficientnet_model.py:143] round_filter input=80 output=96\n",
      "I0815 14:03:00.296807 11120 efficientnet_model.py:143] round_filter input=80 output=96\n",
      "I0815 14:03:00.297805 11120 efficientnet_model.py:143] round_filter input=112 output=136\n",
      "I0815 14:03:00.877071 11120 efficientnet_model.py:143] round_filter input=112 output=136\n",
      "I0815 14:03:00.877071 11120 efficientnet_model.py:143] round_filter input=192 output=232\n",
      "I0815 14:03:01.635470 11120 efficientnet_model.py:143] round_filter input=192 output=232\n",
      "I0815 14:03:01.636470 11120 efficientnet_model.py:143] round_filter input=320 output=384\n",
      "I0815 14:03:01.963197 11120 efficientnet_model.py:143] round_filter input=1280 output=1536\n",
      "I0815 14:03:02.044730 11120 efficientnet_model.py:453] Building model efficientnet with params ModelConfig(width_coefficient=1.2, depth_coefficient=1.4, resolution=300, dropout_rate=0.3, blocks=(BlockConfig(input_filters=32, output_filters=16, kernel_size=3, num_repeat=1, expand_ratio=1, strides=(1, 1), se_ratio=0.25, id_skip=True, fused_conv=False, conv_type='depthwise'), BlockConfig(input_filters=16, output_filters=24, kernel_size=3, num_repeat=2, expand_ratio=6, strides=(2, 2), se_ratio=0.25, id_skip=True, fused_conv=False, conv_type='depthwise'), BlockConfig(input_filters=24, output_filters=40, kernel_size=5, num_repeat=2, expand_ratio=6, strides=(2, 2), se_ratio=0.25, id_skip=True, fused_conv=False, conv_type='depthwise'), BlockConfig(input_filters=40, output_filters=80, kernel_size=3, num_repeat=3, expand_ratio=6, strides=(2, 2), se_ratio=0.25, id_skip=True, fused_conv=False, conv_type='depthwise'), BlockConfig(input_filters=80, output_filters=112, kernel_size=5, num_repeat=3, expand_ratio=6, strides=(1, 1), se_ratio=0.25, id_skip=True, fused_conv=False, conv_type='depthwise'), BlockConfig(input_filters=112, output_filters=192, kernel_size=5, num_repeat=4, expand_ratio=6, strides=(2, 2), se_ratio=0.25, id_skip=True, fused_conv=False, conv_type='depthwise'), BlockConfig(input_filters=192, output_filters=320, kernel_size=3, num_repeat=1, expand_ratio=6, strides=(1, 1), se_ratio=0.25, id_skip=True, fused_conv=False, conv_type='depthwise')), stem_base_filters=32, top_base_filters=1280, activation='simple_swish', batch_norm='default', bn_momentum=0.99, bn_epsilon=0.001, weight_decay=5e-06, drop_connect_rate=0.2, depth_divisor=8, min_depth=None, use_se=True, input_channels=3, num_classes=1000, model_name='efficientnet', rescale_input=False, data_format='channels_last', dtype='float32')\n",
      "I0815 14:03:02.137795 11120 ssd_efficientnet_bifpn_feature_extractor.py:150] EfficientDet EfficientNet backbone version: efficientnet-b4\n",
      "I0815 14:03:02.137795 11120 ssd_efficientnet_bifpn_feature_extractor.py:152] EfficientDet BiFPN num filters: 224\n",
      "I0815 14:03:02.137795 11120 ssd_efficientnet_bifpn_feature_extractor.py:153] EfficientDet BiFPN num iterations: 7\n",
      "I0815 14:03:02.139796 11120 efficientnet_model.py:143] round_filter input=32 output=48\n",
      "I0815 14:03:02.162830 11120 efficientnet_model.py:143] round_filter input=32 output=48\n",
      "I0815 14:03:02.162830 11120 efficientnet_model.py:143] round_filter input=16 output=24\n",
      "I0815 14:03:02.334928 11120 efficientnet_model.py:143] round_filter input=16 output=24\n",
      "I0815 14:03:02.335927 11120 efficientnet_model.py:143] round_filter input=24 output=32\n",
      "I0815 14:03:02.741468 11120 efficientnet_model.py:143] round_filter input=24 output=32\n",
      "I0815 14:03:02.741468 11120 efficientnet_model.py:143] round_filter input=40 output=56\n",
      "I0815 14:03:03.172592 11120 efficientnet_model.py:143] round_filter input=40 output=56\n",
      "I0815 14:03:03.173591 11120 efficientnet_model.py:143] round_filter input=80 output=112\n",
      "I0815 14:03:03.825317 11120 efficientnet_model.py:143] round_filter input=80 output=112\n",
      "I0815 14:03:03.825317 11120 efficientnet_model.py:143] round_filter input=112 output=160\n",
      "I0815 14:03:04.533619 11120 efficientnet_model.py:143] round_filter input=112 output=160\n",
      "I0815 14:03:04.533619 11120 efficientnet_model.py:143] round_filter input=192 output=272\n",
      "I0815 14:03:05.866983 11120 efficientnet_model.py:143] round_filter input=192 output=272\n",
      "I0815 14:03:05.866983 11120 efficientnet_model.py:143] round_filter input=320 output=448\n",
      "I0815 14:03:06.277794 11120 efficientnet_model.py:143] round_filter input=1280 output=1792\n",
      "I0815 14:03:06.392869 11120 efficientnet_model.py:453] Building model efficientnet with params ModelConfig(width_coefficient=1.4, depth_coefficient=1.8, resolution=380, dropout_rate=0.4, blocks=(BlockConfig(input_filters=32, output_filters=16, kernel_size=3, num_repeat=1, expand_ratio=1, strides=(1, 1), se_ratio=0.25, id_skip=True, fused_conv=False, conv_type='depthwise'), BlockConfig(input_filters=16, output_filters=24, kernel_size=3, num_repeat=2, expand_ratio=6, strides=(2, 2), se_ratio=0.25, id_skip=True, fused_conv=False, conv_type='depthwise'), BlockConfig(input_filters=24, output_filters=40, kernel_size=5, num_repeat=2, expand_ratio=6, strides=(2, 2), se_ratio=0.25, id_skip=True, fused_conv=False, conv_type='depthwise'), BlockConfig(input_filters=40, output_filters=80, kernel_size=3, num_repeat=3, expand_ratio=6, strides=(2, 2), se_ratio=0.25, id_skip=True, fused_conv=False, conv_type='depthwise'), BlockConfig(input_filters=80, output_filters=112, kernel_size=5, num_repeat=3, expand_ratio=6, strides=(1, 1), se_ratio=0.25, id_skip=True, fused_conv=False, conv_type='depthwise'), BlockConfig(input_filters=112, output_filters=192, kernel_size=5, num_repeat=4, expand_ratio=6, strides=(2, 2), se_ratio=0.25, id_skip=True, fused_conv=False, conv_type='depthwise'), BlockConfig(input_filters=192, output_filters=320, kernel_size=3, num_repeat=1, expand_ratio=6, strides=(1, 1), se_ratio=0.25, id_skip=True, fused_conv=False, conv_type='depthwise')), stem_base_filters=32, top_base_filters=1280, activation='simple_swish', batch_norm='default', bn_momentum=0.99, bn_epsilon=0.001, weight_decay=5e-06, drop_connect_rate=0.2, depth_divisor=8, min_depth=None, use_se=True, input_channels=3, num_classes=1000, model_name='efficientnet', rescale_input=False, data_format='channels_last', dtype='float32')\n",
      "I0815 14:03:06.538960 11120 ssd_efficientnet_bifpn_feature_extractor.py:150] EfficientDet EfficientNet backbone version: efficientnet-b5\n",
      "I0815 14:03:06.538960 11120 ssd_efficientnet_bifpn_feature_extractor.py:152] EfficientDet BiFPN num filters: 288\n",
      "I0815 14:03:06.539961 11120 ssd_efficientnet_bifpn_feature_extractor.py:153] EfficientDet BiFPN num iterations: 7\n",
      "I0815 14:03:06.541961 11120 efficientnet_model.py:143] round_filter input=32 output=48\n",
      "I0815 14:03:06.580009 11120 efficientnet_model.py:143] round_filter input=32 output=48\n",
      "I0815 14:03:06.580009 11120 efficientnet_model.py:143] round_filter input=16 output=24\n",
      "I0815 14:03:06.920235 11120 efficientnet_model.py:143] round_filter input=16 output=24\n",
      "I0815 14:03:06.920235 11120 efficientnet_model.py:143] round_filter input=24 output=40\n",
      "I0815 14:03:07.538661 11120 efficientnet_model.py:143] round_filter input=24 output=40\n",
      "I0815 14:03:07.538661 11120 efficientnet_model.py:143] round_filter input=40 output=64\n",
      "I0815 14:03:08.158316 11120 efficientnet_model.py:143] round_filter input=40 output=64\n",
      "I0815 14:03:08.158316 11120 efficientnet_model.py:143] round_filter input=80 output=128\n",
      "I0815 14:03:08.972588 11120 efficientnet_model.py:143] round_filter input=80 output=128\n",
      "I0815 14:03:08.972588 11120 efficientnet_model.py:143] round_filter input=112 output=176\n",
      "I0815 14:03:09.875961 11120 efficientnet_model.py:143] round_filter input=112 output=176\n",
      "I0815 14:03:09.875961 11120 efficientnet_model.py:143] round_filter input=192 output=304\n",
      "I0815 14:03:11.213137 11120 efficientnet_model.py:143] round_filter input=192 output=304\n",
      "I0815 14:03:11.213137 11120 efficientnet_model.py:143] round_filter input=320 output=512\n",
      "I0815 14:03:11.827983 11120 efficientnet_model.py:143] round_filter input=1280 output=2048\n",
      "I0815 14:03:11.948053 11120 efficientnet_model.py:453] Building model efficientnet with params ModelConfig(width_coefficient=1.6, depth_coefficient=2.2, resolution=456, dropout_rate=0.4, blocks=(BlockConfig(input_filters=32, output_filters=16, kernel_size=3, num_repeat=1, expand_ratio=1, strides=(1, 1), se_ratio=0.25, id_skip=True, fused_conv=False, conv_type='depthwise'), BlockConfig(input_filters=16, output_filters=24, kernel_size=3, num_repeat=2, expand_ratio=6, strides=(2, 2), se_ratio=0.25, id_skip=True, fused_conv=False, conv_type='depthwise'), BlockConfig(input_filters=24, output_filters=40, kernel_size=5, num_repeat=2, expand_ratio=6, strides=(2, 2), se_ratio=0.25, id_skip=True, fused_conv=False, conv_type='depthwise'), BlockConfig(input_filters=40, output_filters=80, kernel_size=3, num_repeat=3, expand_ratio=6, strides=(2, 2), se_ratio=0.25, id_skip=True, fused_conv=False, conv_type='depthwise'), BlockConfig(input_filters=80, output_filters=112, kernel_size=5, num_repeat=3, expand_ratio=6, strides=(1, 1), se_ratio=0.25, id_skip=True, fused_conv=False, conv_type='depthwise'), BlockConfig(input_filters=112, output_filters=192, kernel_size=5, num_repeat=4, expand_ratio=6, strides=(2, 2), se_ratio=0.25, id_skip=True, fused_conv=False, conv_type='depthwise'), BlockConfig(input_filters=192, output_filters=320, kernel_size=3, num_repeat=1, expand_ratio=6, strides=(1, 1), se_ratio=0.25, id_skip=True, fused_conv=False, conv_type='depthwise')), stem_base_filters=32, top_base_filters=1280, activation='simple_swish', batch_norm='default', bn_momentum=0.99, bn_epsilon=0.001, weight_decay=5e-06, drop_connect_rate=0.2, depth_divisor=8, min_depth=None, use_se=True, input_channels=3, num_classes=1000, model_name='efficientnet', rescale_input=False, data_format='channels_last', dtype='float32')\n",
      "I0815 14:03:12.082162 11120 ssd_efficientnet_bifpn_feature_extractor.py:150] EfficientDet EfficientNet backbone version: efficientnet-b6\n",
      "I0815 14:03:12.082162 11120 ssd_efficientnet_bifpn_feature_extractor.py:152] EfficientDet BiFPN num filters: 384\n",
      "I0815 14:03:12.082162 11120 ssd_efficientnet_bifpn_feature_extractor.py:153] EfficientDet BiFPN num iterations: 8\n",
      "I0815 14:03:12.084163 11120 efficientnet_model.py:143] round_filter input=32 output=56\n",
      "I0815 14:03:12.107173 11120 efficientnet_model.py:143] round_filter input=32 output=56\n",
      "I0815 14:03:12.107173 11120 efficientnet_model.py:143] round_filter input=16 output=32\n",
      "I0815 14:03:12.397968 11120 efficientnet_model.py:143] round_filter input=16 output=32\n",
      "I0815 14:03:12.397968 11120 efficientnet_model.py:143] round_filter input=24 output=40\n",
      "I0815 14:03:13.054819 11120 efficientnet_model.py:143] round_filter input=24 output=40\n",
      "I0815 14:03:13.054819 11120 efficientnet_model.py:143] round_filter input=40 output=72\n",
      "I0815 14:03:13.739066 11120 efficientnet_model.py:143] round_filter input=40 output=72\n",
      "I0815 14:03:13.739066 11120 efficientnet_model.py:143] round_filter input=80 output=144\n",
      "I0815 14:03:14.766226 11120 efficientnet_model.py:143] round_filter input=80 output=144\n",
      "I0815 14:03:14.766727 11120 efficientnet_model.py:143] round_filter input=112 output=200\n",
      "I0815 14:03:15.985568 11120 efficientnet_model.py:143] round_filter input=112 output=200\n",
      "I0815 14:03:15.985568 11120 efficientnet_model.py:143] round_filter input=192 output=344\n",
      "I0815 14:03:17.659224 11120 efficientnet_model.py:143] round_filter input=192 output=344\n",
      "I0815 14:03:17.659724 11120 efficientnet_model.py:143] round_filter input=320 output=576\n",
      "I0815 14:03:18.301234 11120 efficientnet_model.py:143] round_filter input=1280 output=2304\n",
      "I0815 14:03:18.406297 11120 efficientnet_model.py:453] Building model efficientnet with params ModelConfig(width_coefficient=1.8, depth_coefficient=2.6, resolution=528, dropout_rate=0.5, blocks=(BlockConfig(input_filters=32, output_filters=16, kernel_size=3, num_repeat=1, expand_ratio=1, strides=(1, 1), se_ratio=0.25, id_skip=True, fused_conv=False, conv_type='depthwise'), BlockConfig(input_filters=16, output_filters=24, kernel_size=3, num_repeat=2, expand_ratio=6, strides=(2, 2), se_ratio=0.25, id_skip=True, fused_conv=False, conv_type='depthwise'), BlockConfig(input_filters=24, output_filters=40, kernel_size=5, num_repeat=2, expand_ratio=6, strides=(2, 2), se_ratio=0.25, id_skip=True, fused_conv=False, conv_type='depthwise'), BlockConfig(input_filters=40, output_filters=80, kernel_size=3, num_repeat=3, expand_ratio=6, strides=(2, 2), se_ratio=0.25, id_skip=True, fused_conv=False, conv_type='depthwise'), BlockConfig(input_filters=80, output_filters=112, kernel_size=5, num_repeat=3, expand_ratio=6, strides=(1, 1), se_ratio=0.25, id_skip=True, fused_conv=False, conv_type='depthwise'), BlockConfig(input_filters=112, output_filters=192, kernel_size=5, num_repeat=4, expand_ratio=6, strides=(2, 2), se_ratio=0.25, id_skip=True, fused_conv=False, conv_type='depthwise'), BlockConfig(input_filters=192, output_filters=320, kernel_size=3, num_repeat=1, expand_ratio=6, strides=(1, 1), se_ratio=0.25, id_skip=True, fused_conv=False, conv_type='depthwise')), stem_base_filters=32, top_base_filters=1280, activation='simple_swish', batch_norm='default', bn_momentum=0.99, bn_epsilon=0.001, weight_decay=5e-06, drop_connect_rate=0.2, depth_divisor=8, min_depth=None, use_se=True, input_channels=3, num_classes=1000, model_name='efficientnet', rescale_input=False, data_format='channels_last', dtype='float32')\n",
      "I0815 14:03:18.543374 11120 ssd_efficientnet_bifpn_feature_extractor.py:150] EfficientDet EfficientNet backbone version: efficientnet-b7\n",
      "I0815 14:03:18.544374 11120 ssd_efficientnet_bifpn_feature_extractor.py:152] EfficientDet BiFPN num filters: 384\n",
      "I0815 14:03:18.544374 11120 ssd_efficientnet_bifpn_feature_extractor.py:153] EfficientDet BiFPN num iterations: 8\n",
      "I0815 14:03:18.546375 11120 efficientnet_model.py:143] round_filter input=32 output=64\n",
      "I0815 14:03:18.569402 11120 efficientnet_model.py:143] round_filter input=32 output=64\n",
      "I0815 14:03:18.569402 11120 efficientnet_model.py:143] round_filter input=16 output=32\n",
      "I0815 14:03:18.917622 11120 efficientnet_model.py:143] round_filter input=16 output=32\n",
      "I0815 14:03:18.918622 11120 efficientnet_model.py:143] round_filter input=24 output=48\n",
      "I0815 14:03:19.713719 11120 efficientnet_model.py:143] round_filter input=24 output=48\n",
      "I0815 14:03:19.714720 11120 efficientnet_model.py:143] round_filter input=40 output=80\n",
      "I0815 14:03:20.533506 11120 efficientnet_model.py:143] round_filter input=40 output=80\n",
      "I0815 14:03:20.533506 11120 efficientnet_model.py:143] round_filter input=80 output=160\n",
      "I0815 14:03:22.037262 11120 efficientnet_model.py:143] round_filter input=80 output=160\n",
      "I0815 14:03:22.038262 11120 efficientnet_model.py:143] round_filter input=112 output=224\n",
      "I0815 14:03:23.594117 11120 efficientnet_model.py:143] round_filter input=112 output=224\n",
      "I0815 14:03:23.594117 11120 efficientnet_model.py:143] round_filter input=192 output=384\n",
      "I0815 14:03:25.947591 11120 efficientnet_model.py:143] round_filter input=192 output=384\n",
      "I0815 14:03:25.947591 11120 efficientnet_model.py:143] round_filter input=320 output=640\n",
      "I0815 14:03:27.015251 11120 efficientnet_model.py:143] round_filter input=1280 output=2560\n",
      "I0815 14:03:27.156329 11120 efficientnet_model.py:453] Building model efficientnet with params ModelConfig(width_coefficient=2.0, depth_coefficient=3.1, resolution=600, dropout_rate=0.5, blocks=(BlockConfig(input_filters=32, output_filters=16, kernel_size=3, num_repeat=1, expand_ratio=1, strides=(1, 1), se_ratio=0.25, id_skip=True, fused_conv=False, conv_type='depthwise'), BlockConfig(input_filters=16, output_filters=24, kernel_size=3, num_repeat=2, expand_ratio=6, strides=(2, 2), se_ratio=0.25, id_skip=True, fused_conv=False, conv_type='depthwise'), BlockConfig(input_filters=24, output_filters=40, kernel_size=5, num_repeat=2, expand_ratio=6, strides=(2, 2), se_ratio=0.25, id_skip=True, fused_conv=False, conv_type='depthwise'), BlockConfig(input_filters=40, output_filters=80, kernel_size=3, num_repeat=3, expand_ratio=6, strides=(2, 2), se_ratio=0.25, id_skip=True, fused_conv=False, conv_type='depthwise'), BlockConfig(input_filters=80, output_filters=112, kernel_size=5, num_repeat=3, expand_ratio=6, strides=(1, 1), se_ratio=0.25, id_skip=True, fused_conv=False, conv_type='depthwise'), BlockConfig(input_filters=112, output_filters=192, kernel_size=5, num_repeat=4, expand_ratio=6, strides=(2, 2), se_ratio=0.25, id_skip=True, fused_conv=False, conv_type='depthwise'), BlockConfig(input_filters=192, output_filters=320, kernel_size=3, num_repeat=1, expand_ratio=6, strides=(1, 1), se_ratio=0.25, id_skip=True, fused_conv=False, conv_type='depthwise')), stem_base_filters=32, top_base_filters=1280, activation='simple_swish', batch_norm='default', bn_momentum=0.99, bn_epsilon=0.001, weight_decay=5e-06, drop_connect_rate=0.2, depth_divisor=8, min_depth=None, use_se=True, input_channels=3, num_classes=1000, model_name='efficientnet', rescale_input=False, data_format='channels_last', dtype='float32')\n",
      "INFO:tensorflow:time(__main__.ModelBuilderTF2Test.test_create_ssd_models_from_config): 36.59s\n",
      "I0815 14:03:27.588632 11120 test_util.py:2460] time(__main__.ModelBuilderTF2Test.test_create_ssd_models_from_config): 36.59s\n",
      "[       OK ] ModelBuilderTF2Test.test_create_ssd_models_from_config\n",
      "[ RUN      ] ModelBuilderTF2Test.test_invalid_faster_rcnn_batchnorm_update\n",
      "INFO:tensorflow:time(__main__.ModelBuilderTF2Test.test_invalid_faster_rcnn_batchnorm_update): 0.0s\n",
      "I0815 14:03:27.631647 11120 test_util.py:2460] time(__main__.ModelBuilderTF2Test.test_invalid_faster_rcnn_batchnorm_update): 0.0s\n",
      "[       OK ] ModelBuilderTF2Test.test_invalid_faster_rcnn_batchnorm_update\n",
      "[ RUN      ] ModelBuilderTF2Test.test_invalid_first_stage_nms_iou_threshold\n",
      "INFO:tensorflow:time(__main__.ModelBuilderTF2Test.test_invalid_first_stage_nms_iou_threshold): 0.0s\n",
      "I0815 14:03:27.635650 11120 test_util.py:2460] time(__main__.ModelBuilderTF2Test.test_invalid_first_stage_nms_iou_threshold): 0.0s\n",
      "[       OK ] ModelBuilderTF2Test.test_invalid_first_stage_nms_iou_threshold\n",
      "[ RUN      ] ModelBuilderTF2Test.test_invalid_model_config_proto\n",
      "INFO:tensorflow:time(__main__.ModelBuilderTF2Test.test_invalid_model_config_proto): 0.0s\n",
      "I0815 14:03:27.636648 11120 test_util.py:2460] time(__main__.ModelBuilderTF2Test.test_invalid_model_config_proto): 0.0s\n",
      "[       OK ] ModelBuilderTF2Test.test_invalid_model_config_proto\n",
      "[ RUN      ] ModelBuilderTF2Test.test_invalid_second_stage_batch_size\n",
      "INFO:tensorflow:time(__main__.ModelBuilderTF2Test.test_invalid_second_stage_batch_size): 0.0s\n",
      "I0815 14:03:27.640655 11120 test_util.py:2460] time(__main__.ModelBuilderTF2Test.test_invalid_second_stage_batch_size): 0.0s\n",
      "[       OK ] ModelBuilderTF2Test.test_invalid_second_stage_batch_size\n",
      "[ RUN      ] ModelBuilderTF2Test.test_session\n",
      "[  SKIPPED ] ModelBuilderTF2Test.test_session\n",
      "[ RUN      ] ModelBuilderTF2Test.test_unknown_faster_rcnn_feature_extractor\n",
      "INFO:tensorflow:time(__main__.ModelBuilderTF2Test.test_unknown_faster_rcnn_feature_extractor): 0.0s\n",
      "I0815 14:03:27.642651 11120 test_util.py:2460] time(__main__.ModelBuilderTF2Test.test_unknown_faster_rcnn_feature_extractor): 0.0s\n",
      "[       OK ] ModelBuilderTF2Test.test_unknown_faster_rcnn_feature_extractor\n",
      "[ RUN      ] ModelBuilderTF2Test.test_unknown_meta_architecture\n",
      "INFO:tensorflow:time(__main__.ModelBuilderTF2Test.test_unknown_meta_architecture): 0.0s\n",
      "I0815 14:03:27.643652 11120 test_util.py:2460] time(__main__.ModelBuilderTF2Test.test_unknown_meta_architecture): 0.0s\n",
      "[       OK ] ModelBuilderTF2Test.test_unknown_meta_architecture\n",
      "[ RUN      ] ModelBuilderTF2Test.test_unknown_ssd_feature_extractor\n",
      "INFO:tensorflow:time(__main__.ModelBuilderTF2Test.test_unknown_ssd_feature_extractor): 0.0s\n",
      "I0815 14:03:27.645653 11120 test_util.py:2460] time(__main__.ModelBuilderTF2Test.test_unknown_ssd_feature_extractor): 0.0s\n",
      "[       OK ] ModelBuilderTF2Test.test_unknown_ssd_feature_extractor\n",
      "----------------------------------------------------------------------\n",
      "Ran 24 tests in 43.946s\n",
      "\n",
      "OK (skipped=1)\n",
      "2023-08-15 14:01:37.886193: W tensorflow/stream_executor/platform/default/dso_loader.cc:64] Could not load dynamic library 'cudart64_110.dll'; dlerror: cudart64_110.dll not found\n",
      "2023-08-15 14:01:37.886256: I tensorflow/stream_executor/cuda/cudart_stub.cc:29] Ignore above cudart dlerror if you do not have a GPU set up on your machine.\n",
      "2023-08-15 14:02:43.611687: W tensorflow/stream_executor/platform/default/dso_loader.cc:64] Could not load dynamic library 'nvcuda.dll'; dlerror: nvcuda.dll not found\n",
      "2023-08-15 14:02:43.611711: W tensorflow/stream_executor/cuda/cuda_driver.cc:263] failed call to cuInit: UNKNOWN ERROR (303)\n",
      "2023-08-15 14:02:43.697153: I tensorflow/stream_executor/cuda/cuda_diagnostics.cc:169] retrieving CUDA diagnostic information for host: DESKTOP-GVPUJ7J\n",
      "2023-08-15 14:02:43.697228: I tensorflow/stream_executor/cuda/cuda_diagnostics.cc:176] hostname: DESKTOP-GVPUJ7J\n",
      "2023-08-15 14:02:43.703524: I tensorflow/core/platform/cpu_feature_guard.cc:193] This TensorFlow binary is optimized with oneAPI Deep Neural Network Library (oneDNN) to use the following CPU instructions in performance-critical operations:  AVX\n",
      "To enable them in other operations, rebuild TensorFlow with the appropriate compiler flags.\n"
     ]
    }
   ],
   "source": [
    "!python object_detection/builders/model_builder_tf2_test.py"
   ]
  },
  {
   "cell_type": "code",
   "execution_count": 3,
   "metadata": {},
   "outputs": [
    {
     "name": "stdout",
     "output_type": "stream",
     "text": [
      "Requirement already satisfied: pandas in c:\\users\\obencecilia\\anaconda3\\lib\\site-packages (1.2.4)\n",
      "Requirement already satisfied: numpy>=1.16.5 in c:\\users\\obencecilia\\anaconda3\\lib\\site-packages (from pandas) (1.22.4)\n",
      "Requirement already satisfied: pytz>=2017.3 in c:\\users\\obencecilia\\anaconda3\\lib\\site-packages (from pandas) (2021.1)\n",
      "Requirement already satisfied: python-dateutil>=2.7.3 in c:\\users\\obencecilia\\anaconda3\\lib\\site-packages (from pandas) (2.8.1)\n",
      "Requirement already satisfied: six>=1.5 in c:\\users\\obencecilia\\anaconda3\\lib\\site-packages (from python-dateutil>=2.7.3->pandas) (1.15.0)\n"
     ]
    }
   ],
   "source": [
    "!pip install pandas  "
   ]
  },
  {
   "cell_type": "code",
   "execution_count": 13,
   "metadata": {},
   "outputs": [
    {
     "name": "stdout",
     "output_type": "stream",
     "text": [
      "C:\\Users\\OBENCECILIA\\Desktop\\RealTimeObjectDetection-main\\Tensorflow\\scripts\n"
     ]
    }
   ],
   "source": [
    "%cd C:\\Users\\OBENCECILIA\\Desktop\\RealTimeObjectDetection-main\\Tensorflow\\scripts"
   ]
  },
  {
   "cell_type": "code",
   "execution_count": 14,
   "metadata": {},
   "outputs": [
    {
     "name": "stderr",
     "output_type": "stream",
     "text": [
      "python: can't open file '{SCRIPTS_PATH': [Errno 2] No such file or directory\n",
      "python: can't open file '{SCRIPTS_PATH': [Errno 2] No such file or directory\n"
     ]
    }
   ],
   "source": [
    "!python {SCRIPTS_PATH + '/generate_tfrecord.py'} -x {IMAGE_PATH + '/train'} -l {ANNOTATION_PATH + '/label_map.pbtxt'} -o {ANNOTATION_PATH + '/train.record'}\n",
    "!python {SCRIPTS_PATH + '/generate_tfrecord.py'} -x{IMAGE_PATH + '/test'} -l {ANNOTATION_PATH + '/label_map.pbtxt'} -o {ANNOTATION_PATH + '/test.record'}"
   ]
  },
  {
   "cell_type": "markdown",
   "metadata": {},
   "source": [
    "# 3. Download TF Models Pretrained Models from Tensorflow Model Zoo"
   ]
  },
  {
   "cell_type": "code",
   "execution_count": 30,
   "metadata": {},
   "outputs": [
    {
     "name": "stderr",
     "output_type": "stream",
     "text": [
      "Cloning into 'models'...\n",
      "Updating files:  35% (1262/3563)\n",
      "Updating files:  36% (1283/3563)\n",
      "Updating files:  37% (1319/3563)\n",
      "Updating files:  38% (1354/3563)\n",
      "Updating files:  39% (1390/3563)\n",
      "Updating files:  40% (1426/3563)\n",
      "Updating files:  41% (1461/3563)\n",
      "Updating files:  42% (1497/3563)\n",
      "Updating files:  42% (1519/3563)\n",
      "Updating files:  43% (1533/3563)\n",
      "Updating files:  44% (1568/3563)\n",
      "Updating files:  45% (1604/3563)\n",
      "Updating files:  46% (1639/3563)\n",
      "Updating files:  47% (1675/3563)\n",
      "Updating files:  48% (1711/3563)\n",
      "Updating files:  49% (1746/3563)\n",
      "Updating files:  50% (1782/3563)\n",
      "Updating files:  51% (1818/3563)\n",
      "Updating files:  52% (1853/3563)\n",
      "Updating files:  53% (1889/3563)\n",
      "Updating files:  54% (1925/3563)\n",
      "Updating files:  55% (1960/3563)\n",
      "Updating files:  56% (1996/3563)\n",
      "Updating files:  57% (2031/3563)\n",
      "Updating files:  58% (2067/3563)\n",
      "Updating files:  59% (2103/3563)\n",
      "Updating files:  59% (2111/3563)\n",
      "Updating files:  60% (2138/3563)\n",
      "Updating files:  61% (2174/3563)\n",
      "Updating files:  62% (2210/3563)\n",
      "Updating files:  63% (2245/3563)\n",
      "Updating files:  63% (2266/3563)\n",
      "Updating files:  64% (2281/3563)\n",
      "Updating files:  65% (2316/3563)\n",
      "Updating files:  66% (2352/3563)\n",
      "Updating files:  67% (2388/3563)\n",
      "Updating files:  68% (2423/3563)\n",
      "Updating files:  69% (2459/3563)\n",
      "Updating files:  70% (2495/3563)\n",
      "Updating files:  71% (2530/3563)\n",
      "Updating files:  72% (2566/3563)\n",
      "Updating files:  73% (2601/3563)\n",
      "Updating files:  74% (2637/3563)\n",
      "Updating files:  74% (2672/3563)\n",
      "Updating files:  75% (2673/3563)\n",
      "Updating files:  76% (2708/3563)\n",
      "Updating files:  77% (2744/3563)\n",
      "Updating files:  78% (2780/3563)\n",
      "Updating files:  79% (2815/3563)\n",
      "Updating files:  80% (2851/3563)\n",
      "Updating files:  81% (2887/3563)\n",
      "Updating files:  82% (2922/3563)\n",
      "Updating files:  83% (2958/3563)\n",
      "Updating files:  84% (2993/3563)\n",
      "Updating files:  85% (3029/3563)\n",
      "Updating files:  86% (3065/3563)\n",
      "Updating files:  87% (3100/3563)\n",
      "Updating files:  88% (3136/3563)\n",
      "Updating files:  89% (3172/3563)\n",
      "Updating files:  90% (3207/3563)\n",
      "Updating files:  91% (3243/3563)\n",
      "Updating files:  92% (3278/3563)\n",
      "Updating files:  93% (3314/3563)\n",
      "Updating files:  94% (3350/3563)\n",
      "Updating files:  95% (3385/3563)\n",
      "Updating files:  96% (3421/3563)\n",
      "Updating files:  97% (3457/3563)\n",
      "Updating files:  98% (3492/3563)\n",
      "Updating files:  99% (3528/3563)\n",
      "Updating files: 100% (3563/3563)\n",
      "Updating files: 100% (3563/3563), done.\n"
     ]
    }
   ],
   "source": [
    "!cd Tensorflow && git clone https://github.com/tensorflow/models"
   ]
  },
  {
   "cell_type": "code",
   "execution_count": 6,
   "metadata": {},
   "outputs": [],
   "source": [
    "#wget.download('http://download.tensorflow.org/models/object_detection/tf2/20200711/ssd_mobilenet_v2_fpnlite_320x320_coco17_tpu-8.tar.gz')\n",
    "#!mv ssd_mobilenet_v2_fpnlite_320x320_coco17_tpu-8.tar.gz {PRETRAINED_MODEL_PATH}\n",
    "#!cd {PRETRAINED_MODEL_PATH} && tar -zxvf ssd_mobilenet_v2_fpnlite_320x320_coco17_tpu-8.tar.gz"
   ]
  },
  {
   "cell_type": "markdown",
   "metadata": {},
   "source": [
    "# 4. Copy Model Config to Training Folder"
   ]
  },
  {
   "cell_type": "code",
   "execution_count": 2,
   "metadata": {},
   "outputs": [],
   "source": [
    "CUSTOM_MODEL_NAME = 'my_ssd_mobnet' "
   ]
  },
  {
   "cell_type": "code",
   "execution_count": 4,
   "metadata": {},
   "outputs": [
    {
     "name": "stderr",
     "output_type": "stream",
     "text": [
      "A subdirectory or file Tensorflow\\workspace\\models\\my_ssd_mobnet already exists.\n"
     ]
    },
    {
     "name": "stdout",
     "output_type": "stream",
     "text": [
      "The system cannot find the file specified.\n"
     ]
    }
   ],
   "source": [
    "!mkdir {'Tensorflow\\workspace\\models\\\\'+CUSTOM_MODEL_NAME}\n",
    "!copy {PRETRAINED_MODEL_PATH+'/ssd_mobilenet_v2_fpnlite_320x320_coco17_tpu-8/pipeline.config'} {MODEL_PATH+'/'+CUSTOM_MODEL_NAME}"
   ]
  },
  {
   "cell_type": "markdown",
   "metadata": {},
   "source": [
    "# 5. Update Config For Transfer Learning"
   ]
  },
  {
   "cell_type": "code",
   "execution_count": 5,
   "metadata": {},
   "outputs": [],
   "source": [
    "import tensorflow as tf\n",
    "from object_detection.utils import config_util\n",
    "from object_detection.protos import pipeline_pb2\n",
    "from google.protobuf import text_format"
   ]
  },
  {
   "cell_type": "code",
   "execution_count": 8,
   "metadata": {},
   "outputs": [],
   "source": [
    "CONFIG_PATH = MODEL_PATH+'/'+CUSTOM_MODEL_NAME+'/pipeline.config'"
   ]
  },
  {
   "cell_type": "code",
   "execution_count": 9,
   "metadata": {},
   "outputs": [],
   "source": [
    "config = config_util.get_configs_from_pipeline_file(CONFIG_PATH)"
   ]
  },
  {
   "cell_type": "code",
   "execution_count": 10,
   "metadata": {},
   "outputs": [
    {
     "data": {
      "text/plain": [
       "{'model': ssd {\n",
       "   num_classes: 90\n",
       "   image_resizer {\n",
       "     fixed_shape_resizer {\n",
       "       height: 320\n",
       "       width: 320\n",
       "     }\n",
       "   }\n",
       "   feature_extractor {\n",
       "     type: \"ssd_mobilenet_v2_fpn_keras\"\n",
       "     depth_multiplier: 1.0\n",
       "     min_depth: 16\n",
       "     conv_hyperparams {\n",
       "       regularizer {\n",
       "         l2_regularizer {\n",
       "           weight: 3.9999998989515007e-05\n",
       "         }\n",
       "       }\n",
       "       initializer {\n",
       "         random_normal_initializer {\n",
       "           mean: 0.0\n",
       "           stddev: 0.009999999776482582\n",
       "         }\n",
       "       }\n",
       "       activation: RELU_6\n",
       "       batch_norm {\n",
       "         decay: 0.996999979019165\n",
       "         scale: true\n",
       "         epsilon: 0.0010000000474974513\n",
       "       }\n",
       "     }\n",
       "     use_depthwise: true\n",
       "     override_base_feature_extractor_hyperparams: true\n",
       "     fpn {\n",
       "       min_level: 3\n",
       "       max_level: 7\n",
       "       additional_layer_depth: 128\n",
       "     }\n",
       "   }\n",
       "   box_coder {\n",
       "     faster_rcnn_box_coder {\n",
       "       y_scale: 10.0\n",
       "       x_scale: 10.0\n",
       "       height_scale: 5.0\n",
       "       width_scale: 5.0\n",
       "     }\n",
       "   }\n",
       "   matcher {\n",
       "     argmax_matcher {\n",
       "       matched_threshold: 0.5\n",
       "       unmatched_threshold: 0.5\n",
       "       ignore_thresholds: false\n",
       "       negatives_lower_than_unmatched: true\n",
       "       force_match_for_each_row: true\n",
       "       use_matmul_gather: true\n",
       "     }\n",
       "   }\n",
       "   similarity_calculator {\n",
       "     iou_similarity {\n",
       "     }\n",
       "   }\n",
       "   box_predictor {\n",
       "     weight_shared_convolutional_box_predictor {\n",
       "       conv_hyperparams {\n",
       "         regularizer {\n",
       "           l2_regularizer {\n",
       "             weight: 3.9999998989515007e-05\n",
       "           }\n",
       "         }\n",
       "         initializer {\n",
       "           random_normal_initializer {\n",
       "             mean: 0.0\n",
       "             stddev: 0.009999999776482582\n",
       "           }\n",
       "         }\n",
       "         activation: RELU_6\n",
       "         batch_norm {\n",
       "           decay: 0.996999979019165\n",
       "           scale: true\n",
       "           epsilon: 0.0010000000474974513\n",
       "         }\n",
       "       }\n",
       "       depth: 128\n",
       "       num_layers_before_predictor: 4\n",
       "       kernel_size: 3\n",
       "       class_prediction_bias_init: -4.599999904632568\n",
       "       share_prediction_tower: true\n",
       "       use_depthwise: true\n",
       "     }\n",
       "   }\n",
       "   anchor_generator {\n",
       "     multiscale_anchor_generator {\n",
       "       min_level: 3\n",
       "       max_level: 7\n",
       "       anchor_scale: 4.0\n",
       "       aspect_ratios: 1.0\n",
       "       aspect_ratios: 2.0\n",
       "       aspect_ratios: 0.5\n",
       "       scales_per_octave: 2\n",
       "     }\n",
       "   }\n",
       "   post_processing {\n",
       "     batch_non_max_suppression {\n",
       "       score_threshold: 9.99999993922529e-09\n",
       "       iou_threshold: 0.6000000238418579\n",
       "       max_detections_per_class: 100\n",
       "       max_total_detections: 100\n",
       "       use_static_shapes: false\n",
       "     }\n",
       "     score_converter: SIGMOID\n",
       "   }\n",
       "   normalize_loss_by_num_matches: true\n",
       "   loss {\n",
       "     localization_loss {\n",
       "       weighted_smooth_l1 {\n",
       "       }\n",
       "     }\n",
       "     classification_loss {\n",
       "       weighted_sigmoid_focal {\n",
       "         gamma: 2.0\n",
       "         alpha: 0.25\n",
       "       }\n",
       "     }\n",
       "     classification_weight: 1.0\n",
       "     localization_weight: 1.0\n",
       "   }\n",
       "   encode_background_as_zeros: true\n",
       "   normalize_loc_loss_by_codesize: true\n",
       "   inplace_batchnorm_update: true\n",
       "   freeze_batchnorm: false\n",
       " },\n",
       " 'train_config': batch_size: 128\n",
       " data_augmentation_options {\n",
       "   random_horizontal_flip {\n",
       "   }\n",
       " }\n",
       " data_augmentation_options {\n",
       "   random_crop_image {\n",
       "     min_object_covered: 0.0\n",
       "     min_aspect_ratio: 0.75\n",
       "     max_aspect_ratio: 3.0\n",
       "     min_area: 0.75\n",
       "     max_area: 1.0\n",
       "     overlap_thresh: 0.0\n",
       "   }\n",
       " }\n",
       " sync_replicas: true\n",
       " optimizer {\n",
       "   momentum_optimizer {\n",
       "     learning_rate {\n",
       "       cosine_decay_learning_rate {\n",
       "         learning_rate_base: 0.07999999821186066\n",
       "         total_steps: 50000\n",
       "         warmup_learning_rate: 0.026666000485420227\n",
       "         warmup_steps: 1000\n",
       "       }\n",
       "     }\n",
       "     momentum_optimizer_value: 0.8999999761581421\n",
       "   }\n",
       "   use_moving_average: false\n",
       " }\n",
       " fine_tune_checkpoint: \"PATH_TO_BE_CONFIGURED\"\n",
       " num_steps: 50000\n",
       " startup_delay_steps: 0.0\n",
       " replicas_to_aggregate: 8\n",
       " max_number_of_boxes: 100\n",
       " unpad_groundtruth_tensors: false\n",
       " fine_tune_checkpoint_type: \"classification\"\n",
       " fine_tune_checkpoint_version: V2,\n",
       " 'train_input_config': label_map_path: \"PATH_TO_BE_CONFIGURED\"\n",
       " tf_record_input_reader {\n",
       "   input_path: \"PATH_TO_BE_CONFIGURED\"\n",
       " },\n",
       " 'eval_config': metrics_set: \"coco_detection_metrics\"\n",
       " use_moving_averages: false,\n",
       " 'eval_input_configs': [label_map_path: \"PATH_TO_BE_CONFIGURED\"\n",
       " shuffle: false\n",
       " num_epochs: 1\n",
       " tf_record_input_reader {\n",
       "   input_path: \"PATH_TO_BE_CONFIGURED\"\n",
       " }\n",
       " ],\n",
       " 'eval_input_config': label_map_path: \"PATH_TO_BE_CONFIGURED\"\n",
       " shuffle: false\n",
       " num_epochs: 1\n",
       " tf_record_input_reader {\n",
       "   input_path: \"PATH_TO_BE_CONFIGURED\"\n",
       " }}"
      ]
     },
     "execution_count": 10,
     "metadata": {},
     "output_type": "execute_result"
    }
   ],
   "source": [
    "config"
   ]
  },
  {
   "cell_type": "code",
   "execution_count": 11,
   "metadata": {},
   "outputs": [],
   "source": [
    "pipeline_config = pipeline_pb2.TrainEvalPipelineConfig()\n",
    "with tf.io.gfile.GFile(CONFIG_PATH, \"r\") as f:                                                                                                                                                                                                                     \n",
    "    proto_str = f.read()                                                                                                                                                                                                                                          \n",
    "    text_format.Merge(proto_str, pipeline_config)  "
   ]
  },
  {
   "cell_type": "code",
   "execution_count": 12,
   "metadata": {},
   "outputs": [],
   "source": [
    "pipeline_config.model.ssd.num_classes = 25\n",
    "pipeline_config.train_config.batch_size = 4\n",
    "pipeline_config.train_config.fine_tune_checkpoint = PRETRAINED_MODEL_PATH+'/ssd_mobilenet_v2_fpnlite_320x320_coco17_tpu-8/checkpoint/ckpt-0'\n",
    "pipeline_config.train_config.fine_tune_checkpoint_type = \"detection\"\n",
    "pipeline_config.train_input_reader.label_map_path= ANNOTATION_PATH + '/label_map.pbtxt'\n",
    "pipeline_config.train_input_reader.tf_record_input_reader.input_path[:] = [ANNOTATION_PATH + '/train.record']\n",
    "pipeline_config.eval_input_reader[0].label_map_path = ANNOTATION_PATH + '/label_map.pbtxt'\n",
    "pipeline_config.eval_input_reader[0].tf_record_input_reader.input_path[:] = [ANNOTATION_PATH + '/test.record']"
   ]
  },
  {
   "cell_type": "code",
   "execution_count": 13,
   "metadata": {},
   "outputs": [],
   "source": [
    "config_text = text_format.MessageToString(pipeline_config)                                                                                                                                                                                                        \n",
    "with tf.io.gfile.GFile(CONFIG_PATH, \"wb\") as f:                                                                                                                                                                                                                     \n",
    "    f.write(config_text)   "
   ]
  },
  {
   "cell_type": "markdown",
   "metadata": {},
   "source": [
    "# 6. Train the model"
   ]
  },
  {
   "cell_type": "code",
   "execution_count": 14,
   "metadata": {},
   "outputs": [
    {
     "name": "stdout",
     "output_type": "stream",
     "text": [
      "python Tensorflow/models/research/object_detection/model_main_tf2.py --model_dir=Tensorflow/workspace/models/my_ssd_mobnet --pipeline_config_path=Tensorflow/workspace/models/my_ssd_mobnet/pipeline.config --num_train_steps=10000\n"
     ]
    }
   ],
   "source": [
    "print(\"\"\"python {}/research/object_detection/model_main_tf2.py --model_dir={}/{} --pipeline_config_path={}/{}/pipeline.config --num_train_steps=10000\"\"\".format(APIMODEL_PATH, MODEL_PATH,CUSTOM_MODEL_NAME,MODEL_PATH,CUSTOM_MODEL_NAME))"
   ]
  },
  {
   "cell_type": "code",
   "execution_count": 2,
   "metadata": {},
   "outputs": [],
   "source": [
    "# 7.Load train model from checkpoint\n",
    "import os\n",
    "from object_detection.utils import label_map_util\n",
    "from object_detection.utils import visualization_utils as viz_utils\n",
    "from object_detection.builders import model_builder"
   ]
  },
  {
   "cell_type": "code",
   "execution_count": 9,
   "metadata": {},
   "outputs": [],
   "source": [
    "# Load pipeline config and build a detection model\n",
    "configs = config_util.get_configs_from_pipeline_file(CONFIG_PATH)\n",
    "detection_model = model_builder.build(model_config=configs['model'], is_training=False)\n",
    "\n",
    "# Restore checkpoint\n",
    "ckpt = tf.compat.v2.train.Checkpoint(model=detection_model)\n",
    "ckpt.restore(os.path.join(CHECKPOINT_PATH, 'ckpt-6')).expect_partial()\n",
    "\n",
    "@tf.function\n",
    "def detect_fn(image):\n",
    "    image, shapes = detection_model.preprocess(image)\n",
    "    prediction_dict = detection_model.predict(image, shapes)\n",
    "    detections = detection_model.postprocess(prediction_dict, shapes)\n",
    "    return detections"
   ]
  },
  {
   "cell_type": "markdown",
   "metadata": {},
   "source": [
    "# 8. Detect in Real-Time"
   ]
  },
  {
   "cell_type": "code",
   "execution_count": 10,
   "metadata": {},
   "outputs": [],
   "source": [
    "import cv2 \n",
    "import numpy as np"
   ]
  },
  {
   "cell_type": "code",
   "execution_count": 11,
   "metadata": {},
   "outputs": [],
   "source": [
    "category_index = label_map_util.create_category_index_from_labelmap(ANNOTATION_PATH+'/label_map.pbtxt')"
   ]
  },
  {
   "cell_type": "code",
   "execution_count": 105,
   "metadata": {},
   "outputs": [],
   "source": [
    "cap.release()"
   ]
  },
  {
   "cell_type": "code",
   "execution_count": 12,
   "metadata": {},
   "outputs": [],
   "source": [
    "# Setup capture\n",
    "cap = cv2.VideoCapture(0)\n",
    "width = int(cap.get(cv2.CAP_PROP_FRAME_WIDTH))\n",
    "height = int(cap.get(cv2.CAP_PROP_FRAME_HEIGHT))"
   ]
  },
  {
   "cell_type": "code",
   "execution_count": null,
   "metadata": {},
   "outputs": [],
   "source": [
    "while True: \n",
    "    ret, frame = cap.read()\n",
    "    image_np = np.array(frame)\n",
    "    \n",
    "    input_tensor = tf.convert_to_tensor(np.expand_dims(image_np, 0), dtype=tf.float32)\n",
    "    detections = detect_fn(input_tensor)\n",
    "    \n",
    "    num_detections = int(detections.pop('num_detections'))\n",
    "    detections = {key: value[0, :num_detections].numpy()\n",
    "                  for key, value in detections.items()}\n",
    "    detections['num_detections'] = num_detections\n",
    "\n",
    "    # detection_classes should be ints.\n",
    "    detections['detection_classes'] = detections['detection_classes'].astype(np.int64)\n",
    "\n",
    "    label_id_offset = 1\n",
    "    image_np_with_detections = image_np.copy()\n",
    "\n",
    "    viz_utils.visualize_boxes_and_labels_on_image_array(\n",
    "                image_np_with_detections,\n",
    "                detections['detection_boxes'],\n",
    "                detections['detection_classes']+label_id_offset,\n",
    "                detections['detection_scores'],\n",
    "                category_index,\n",
    "                use_normalized_coordinates=True,\n",
    "                max_boxes_to_draw=5,\n",
    "                min_score_thresh=.5,\n",
    "                agnostic_mode=False)\n",
    "\n",
    "    cv2.imshow('object detection',  cv2.resize(image_np_with_detections, (800, 600)))\n",
    "    \n",
    "    if cv2.waitKey(1) & 0xFF == ord('q'):\n",
    "        cap.release()\n",
    "        break"
   ]
  },
  {
   "cell_type": "code",
   "execution_count": 42,
   "metadata": {},
   "outputs": [],
   "source": [
    "detections = detect_fn(input_tensor)"
   ]
  },
  {
   "cell_type": "code",
   "execution_count": 67,
   "metadata": {},
   "outputs": [],
   "source": [
    "from matplotlib import pyplot as plt"
   ]
  },
  {
   "cell_type": "code",
   "execution_count": null,
   "metadata": {},
   "outputs": [],
   "source": []
  }
 ],
 "metadata": {
  "kernelspec": {
   "display_name": "Python 3",
   "language": "python",
   "name": "python3"
  },
  "language_info": {
   "codemirror_mode": {
    "name": "ipython",
    "version": 3
   },
   "file_extension": ".py",
   "mimetype": "text/x-python",
   "name": "python",
   "nbconvert_exporter": "python",
   "pygments_lexer": "ipython3",
   "version": "3.8.8"
  }
 },
 "nbformat": 4,
 "nbformat_minor": 2
}
